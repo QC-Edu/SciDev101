{
 "cells": [
  {
   "cell_type": "markdown",
   "metadata": {},
   "source": [
    "# Flight Simulation Project Onboarding\n",
    "\n",
    "In this **open ended** project, you will be making a flight simulator in Python. Instead of the usual \"click and cry\" type of numerical simulator, we will be using the `pygame` package so that we can visualize how our code works **Real time**- yes you will technically be making a video game. In this project we will not only be learning **how** to code in python, but also how to **Design Software** and **Think in Python**.\n",
    "\n",
    "## Rundown\n",
    "\n",
    "*Forewarning* Lots of coding projects are boring and involve staring at walls of numbers. In this project, we will not be doing that; however, this also comes with a cost. We will be using tools and concepts that you probably will not be familiar with. This is completely expected and will *hopefully* teach you a thing or two about not only programming, but also the engineering process. \n",
    "\n",
    "The project will boil down to 3 main parts:\n",
    "\n",
    "1. Object Oriented Programming\n",
    "2. Game Logic\n",
    "3. Physics Engine\n",
    "\n",
    "Using these concepts, y'all will ultimately make a flight simulator which will model a plane/rocket/whatever launching from a start platform and landing on a target platform.\n",
    "\n",
    "I will provide the following code:\n",
    "- basic, barebones outline for the game_loop\n",
    "- Environment class which will build the 2D world\n",
    "    - This includes the landing/takeoff platforms\n",
    "\n",
    "Now this is an *engineering* course, so obviously y'all will be expected to have a little more autonomy when it comes to the physics engine (I promise it is nothing harder than high school physics). I will, however, help guide you and help you implement certain features especially if they are slightly outside the realm of what you know.\n",
    "\n",
    "## Format\n",
    "\n",
    "This project is very open ended, and as such, I will not be providing a strict format for the project. However, with this being an engineering course, I will expect a level of collaboration not only between groups but also with me. I think it will benefit everyone to touch base with me as often as you would like (not a requirement just a suggestion) that way I can help guide you in the right direction and be an incentive to not use ChatGPT as a brain and not procrastinate. It is also super important to bounce ideas off of each other and talk about how you are going to implement certain things.\n",
    "\n",
    "## Rules\n",
    "\n",
    "1. **Pygame** - This may **ONLY** be used for GUI, visualizing, and making objects. You are not allowed to use any of the physics engines that come with pygame or any other game engine. This means you have to code your own objects. If in doubt, ask me- everynow and then there may be exceptions.\n",
    "2. **ChatGPT** - ChatGPT is a tool like Google which of course can help you understand/apply concepts. However, I would not use it for code design or trust it blindly. Braden and I learned to code the hard way, so if we suspect you are abusing ChatGPT or any other AI resource, we have some creative problems (LLM-proof) that may or may not be thrown your way.\n",
    "\n",
    "## Assessment\n",
    "\n",
    "I will be assessing your projects based on the following criteria:\n",
    "\n",
    "1. **Object Oriented Programming** - Are you using classes and objects effectively?\n",
    "2. **Game Logic** - Does your game work? Will the rocket land by itself?\n",
    "3. **Physics Engine** - Does your physics engine work within reason? \n",
    "4. **Design** - Is your code clean, documented, and easy to read?\n",
    "5. **Group Reports** - Did you give reasonable updates on your project? Did you ask for help when you needed it? Did you participate?\n",
    "    - No this is not a formal written report\n",
    "    - Think of these as more of prject status updates/brainstorming sessions/bugfixing/etc\n",
    "    - At the minimum, I would like to have y'all discuss what you have done at the end of the project (very informal).\n",
    "\n",
    "Potential Bonuses:\n",
    "1. **Creativity** - Is there something unique about your project?\n",
    "2. **Version Control** - I would love to see some y'all collabing via github. THis is not required, but it would make collaboration easier, and show that everyone is working together.\n",
    "\n",
    "\n",
    "\n",
    "\n",
    "\n"
   ]
  },
  {
   "cell_type": "markdown",
   "metadata": {},
   "source": []
  }
 ],
 "metadata": {
  "language_info": {
   "name": "python"
  }
 },
 "nbformat": 4,
 "nbformat_minor": 2
}

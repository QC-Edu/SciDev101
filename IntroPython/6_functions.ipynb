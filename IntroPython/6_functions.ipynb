{
 "cells": [
  {
   "cell_type": "markdown",
   "metadata": {},
   "source": [
    "# Functions\n",
    "\n",
    "Functions are one of the most important concepts in programming. Some of the benefits of using functions are:\n",
    "\n",
    "- **Reusability**: You can write a function once and use it multiple times.\n",
    "- **Modularity**: You can write a function once and use it in multiple programs.\n",
    "- **Scoping**: You can use the same variable name in different functions without any conflict.\n",
    "- **Debugging**: You can debug a function separately without affecting the rest of the code.\n",
    "- **Readability**: You can divide a complex problem into simpler parts by using functions.\n",
    "\n",
    "## Basics\n",
    "\n",
    "So what is a function? A function is a block of code - or a sequence of statements - that performs a specific task. It takes some input, processes it, and returns the output just like mathematical functions. \n",
    "\n",
    "Usually, when talking about functions, we say that a function \"takes\" some input and \"returns\" some output. The input is called the **argument** or **parameter**, and the output is dubbed the **return value**.\n",
    "\n",
    "We have already used some built-in functions like `print()`, `input()`, `len()`, `type()` etc. \n",
    "\n",
    "Another family of built-in functions are type conversion functions like `int()`, `float()`, `str()`, `list()`, `tuple()`, `set()`, `dict()` etc. These functions convert one data type to another.\n",
    "\n",
    "Example:"
   ]
  },
  {
   "cell_type": "code",
   "execution_count": null,
   "metadata": {},
   "outputs": [],
   "source": [
    "# Convert a string to an integer\n",
    "num = int(\"10\")\n",
    "print(num)  # Output: 10\n",
    "\n",
    "int(\"Hi\")  # ValueError: invalid literal for int() with base 10: 'Hi'"
   ]
  },
  {
   "cell_type": "markdown",
   "metadata": {},
   "source": [
    "Python also includes some functions for mathematical operations like `abs()`, `max()`, `min()`, `sum()`, `pow()`, `round()` etc. To use these functions, you need to import the `math` module with an **import** statement."
   ]
  },
  {
   "cell_type": "code",
   "execution_count": null,
   "metadata": {},
   "outputs": [],
   "source": [
    "import math\n",
    "\n",
    "print(math.sqrt(16))  # Output: 4.0"
   ]
  },
  {
   "cell_type": "markdown",
   "metadata": {},
   "source": [
    "## Defining a Function\n",
    "\n",
    "Previously, we have only seen the built-in functions that Python provides. But under the hood, a poor Python developer was tasked with writing these functions so that you don't have to. \n",
    "\n",
    "To define your own function, you are only required to use two things:\n",
    "\n",
    "1. **function header**: The function header consists of the **def** keyword, the function name, parentheses `()`, and a colon `:`.\n",
    "2. **function body**: The function body is a block of code that performs a specific task. It is indented by four spaces or a tab.\n",
    "\n",
    "Example:"
   ]
  },
  {
   "cell_type": "code",
   "execution_count": null,
   "metadata": {},
   "outputs": [],
   "source": [
    "def greet():\n",
    "    print(\"Howdy, Y'all!\")\n",
    "\n",
    "# Call the function\n",
    "greet()  # Output: Howdy, Y'all!"
   ]
  },
  {
   "cell_type": "markdown",
   "metadata": {},
   "source": [
    "In the above example, we defined a function named `greet()`; however, it does not do anything by itself-> a function is just a set of instructions or repeatable code. To use a function, you need to call it. In the above example, we called the `greet()` function by writing `greet()`. Upon calling the function, the code inside the function body is executed (or the instructions are read if we continue the analogy).\n",
    "\n",
    "## Additional Function Anatomy\n",
    "\n",
    "In addition to the function header and function body, there are two more components of a function:\n",
    "\n",
    "1. **Parameters**: Parameters are the input values that a function takes. Parameters are defined inside the parentheses `()` of the function header and can take zero (as seen above) or more parameters. If a function takes multiple parameters, they are separated by commas `,`.\n",
    "\n",
    "2. **Return Value**: A function can return a value to the caller. The return value is specified using the `return` keyword followed by the value that you want to return. If a function does not return any value, it returns `None` by default. In the above example, the `greet()` function executes `print()` statements upon its call but does not return any value. Return values allow us to assign the output of a function to a variable.\n",
    "\n",
    "A summary of the function anatomy is as follows:\n",
    "```python\n",
    "def function_name(parameter1, parameter2, ...):#Function header\n",
    "    # Function body\n",
    "    return return_value\n",
    "```\n",
    "Example:"
   ]
  },
  {
   "cell_type": "code",
   "execution_count": null,
   "metadata": {},
   "outputs": [],
   "source": [
    "def area_of_circle(radius):\n",
    "    area = 3.14159 * radius ** 2\n",
    "    return area\n",
    "\n",
    "# Call the function\n",
    "result = area_of_circle(5)\n",
    "print(result)  # Output: 78.53975"
   ]
  },
  {
   "cell_type": "markdown",
   "metadata": {},
   "source": [
    "The `area_of_circle()` function takes one parameter `radius` and returns the area of a circle with that radius. The return value is assigned to the variable `result` and printed.\n",
    "\n",
    "## Function Arguments\n",
    "\n",
    "In Python, it is common to call the input values of a function **arguments**. Technically speaking, parameters are in the function definition while **arguments** are the values passed to the function during a function call. However, the terms are often used interchangeably, but it is important to be aware of these subtleties when interacting with more pedantic programmers (trust me).\n",
    "\n",
    "Python supports four types of arguments:\n",
    "\n",
    "1. **Positional Arguments**: Positional arguments are the most common type of arguments. The values of positional arguments are assigned based on their position. The order of the arguments is important.\n",
    "\n",
    "Example:"
   ]
  },
  {
   "cell_type": "code",
   "execution_count": null,
   "metadata": {},
   "outputs": [],
   "source": [
    "def greet(name, message):\n",
    "    print(f\"Hello, {name}! {message}\")\n",
    "\n",
    "# Call the function\n",
    "greet(\"Alice\", \"How are you?\")  # Output: Hello, Alice! How are you?"
   ]
  },
  {
   "cell_type": "markdown",
   "metadata": {},
   "source": [
    "2. **Keyword Arguments**: Keyword arguments are identified by their parameter names. When you use keyword arguments in a function call, the order of the arguments does not matter.\n",
    "\n",
    "Example:"
   ]
  },
  {
   "cell_type": "code",
   "execution_count": null,
   "metadata": {},
   "outputs": [],
   "source": [
    "def greet(name, message):\n",
    "    print(f\"Hello, {name}! {message}\")\n",
    "\n",
    "# Call the function\n",
    "greet(message=\"How are you?\", name=\"Alice\")  # Output: Hello, Alice! How are you?"
   ]
  },
  {
   "cell_type": "markdown",
   "metadata": {},
   "source": [
    "**Note**: You can mix positional and keyword arguments in a function call. However, positional arguments must come before keyword arguments. If you happen to mix them up, Python will say something like `SyntaxError: positional argument follows keyword argument`.\n",
    "\n",
    "3. **Default Arguments**: Default arguments are used when you do not pass a value for a parameter. Default arguments are specified in the function header by assigning a value to the parameter. *See why the two terms are used interchangeably?*\n",
    "\n",
    "Example:"
   ]
  },
  {
   "cell_type": "code",
   "execution_count": null,
   "metadata": {},
   "outputs": [],
   "source": [
    "def greet(name, message=\"Howdy!\"):\n",
    "    print(f\"Hello, {name}! {message}\")\n",
    "\n",
    "# Call the function\n",
    "greet(\"Alice\")  # Output: Hello, Alice! Howdy!"
   ]
  },
  {
   "cell_type": "markdown",
   "metadata": {},
   "source": [
    "4. **Variable-length Arguments**: Sometimes, you might not know the number of arguments that you want to pass to a function. In such cases, you can use variable-length arguments. Python provides two ways to handle variable-length arguments:\n",
    "\n",
    "    - **Arbitrary Arguments**: You can use the `*args` parameter to pass a variable number of non-keyword arguments to a function. The `*args` parameter is a tuple that holds the values of all non-keyword arguments.\n",
    "\n",
    "    - **Keyword Arbitrary Arguments**: You can use the `**kwargs` parameter to pass a variable number of keyword arguments to a function. The `**kwargs` parameter is a dictionary that holds the values of all keyword arguments.\n",
    "    \n",
    "    Example:"
   ]
  },
  {
   "cell_type": "code",
   "execution_count": 4,
   "metadata": {},
   "outputs": [
    {
     "name": "stdout",
     "output_type": "stream",
     "text": [
      "Hello, Alice!\n",
      "Hello, Bob!\n",
      "Hello, Charlie!\n"
     ]
    }
   ],
   "source": [
    "#Arbitrary Arguments\n",
    "def greet(*names):\n",
    "    for name in names:\n",
    "        print(f\"Hello, {name}!\")\n",
    "\n",
    "# Call the function\n",
    "greet(\"Alice\", \"Bob\", \"Charlie\")  # Output: Hello, Alice! Hello, Bob! Hello, Charlie!"
   ]
  },
  {
   "cell_type": "code",
   "execution_count": 2,
   "metadata": {},
   "outputs": [
    {
     "name": "stdout",
     "output_type": "stream",
     "text": [
      "Hello, Alice! How are you?\n",
      "Hello, Bob! What's up?\n",
      "Hello, Charlie! Nice to meet you!\n"
     ]
    }
   ],
   "source": [
    "#Arbitrary Keyword Arguments\n",
    "def greet(**names):\n",
    "    for key, value in names.items():\n",
    "        print(f\"Hello, {key}! {value}\")\n",
    "\n",
    "    # Call the function\n",
    "greet(Alice=\"How are you?\", Bob=\"What's up?\", Charlie=\"Nice to meet you!\")  # Output: Hello, Alice! How are you? Hello, Bob! What's up? Hello, Charlie! Nice to meet you!"
   ]
  },
  {
   "cell_type": "markdown",
   "metadata": {},
   "source": [
    "# Scope and Lifetime of Variables\n",
    "\n",
    "When you define a function, you create something known as a **namespace**. A namespace is a collection of names and the objects they refer to i.e. variables and functions. In other words, your entire program is a namespace, and each function within your program is a separate namespace. What this means, is that the names inside a function are not accessible outside the function, and the names outside the function are not accessible inside the function (by default). This concept is known as **scope**.\n",
    "\n",
    "In Python, there are two types of scopes - **global scope** and **local scope**.\n",
    "\n",
    "1. **Global Scope**: A variable created in the main body of the program is known as a global variable. Global variables are accessible from anywhere in the program.\n",
    "\n",
    "Example:"
   ]
  },
  {
   "cell_type": "code",
   "execution_count": null,
   "metadata": {},
   "outputs": [],
   "source": [
    "x = 10  # Global variable\n",
    "\n",
    "def print_x():\n",
    "    print(x)\n",
    "\n",
    "print_x()  # Output: 10"
   ]
  },
  {
   "cell_type": "markdown",
   "metadata": {},
   "source": [
    "However, if you try to modify a global variable inside a function, Python will create a new local variable with the same name. This is known as **shadowing**. If for some reason you need to modify a global variable inside a function, you can use the `global` keyword. \n",
    "\n",
    "Example:"
   ]
  },
  {
   "cell_type": "code",
   "execution_count": null,
   "metadata": {},
   "outputs": [],
   "source": [
    "x = 10  # Global variable\n",
    "\n",
    "def modify_x():\n",
    "    global x\n",
    "    x = 20\n",
    "\n",
    "modify_x()\n",
    "print(x)  # Output: 20  "
   ]
  },
  {
   "cell_type": "markdown",
   "metadata": {},
   "source": [
    "**Warning**: Using global variables is generally considered bad practice because it makes your code harder to understand and debug, and modifying global variables inside functions can lead to unexpected behavior. It is **almost** never necessary to use global variables in Python.\n",
    "\n",
    "2. **Local Scope**: A variable created inside a function is known as a local variable. Local variables are accessible only within the function in which they are defined.\n",
    "\n",
    "Example:"
   ]
  },
  {
   "cell_type": "code",
   "execution_count": null,
   "metadata": {},
   "outputs": [],
   "source": [
    "def print_x():\n",
    "    x = 10  # Local variable\n",
    "    print(x)\n",
    "\n",
    "print_x()  # Output: 10\n",
    "print(x)  # NameError: name 'x' is not defined"
   ]
  },
  {
   "cell_type": "markdown",
   "metadata": {},
   "source": [
    "## Lambda\n",
    "\n",
    "Another important concept in Python is **lambda functions**. Lambda functions are small, anonymous functions that can have any number of arguments but only one expression. Lambda functions are defined using the `lambda` keyword. These functions are incredibly useful when you need a simple function for a short period of time and don't want to define a full-fledged function.\n",
    "\n",
    "### Syntax\n",
    "```python\n",
    "lambda arguments: expression\n",
    "```\n",
    "\n",
    "Example:"
   ]
  },
  {
   "cell_type": "code",
   "execution_count": null,
   "metadata": {},
   "outputs": [],
   "source": [
    "add = lambda x, y: x + y\n",
    "print(add(5, 3))  # Output: 8"
   ]
  },
  {
   "cell_type": "markdown",
   "metadata": {},
   "source": [
    "This is a very simple example, but lambda functions can be very powerful when used in conjunction with functions like `map()`, `filter()`, or in cases where you need to pass a function as an argument to another function.\n",
    "\n",
    "Example:"
   ]
  },
  {
   "cell_type": "code",
   "execution_count": 3,
   "metadata": {},
   "outputs": [
    {
     "name": "stdout",
     "output_type": "stream",
     "text": [
      "[3, 1, 4, 7, 2]\n"
     ]
    }
   ],
   "source": [
    "numbers = [1, 4, 2, 7, 3]\n",
    "\n",
    "# Sorting using a lambda function to sort by the remainder when divided by 3\n",
    "numbers.sort(key=lambda x: x % 3)\n",
    "print(numbers)  # Output: [3, 1, 4, 7, 2]"
   ]
  },
  {
   "cell_type": "code",
   "execution_count": null,
   "metadata": {},
   "outputs": [],
   "source": []
  }
 ],
 "metadata": {
  "kernelspec": {
   "display_name": "Python 3 (ipykernel)",
   "language": "python",
   "name": "python3"
  },
  "language_info": {
   "codemirror_mode": {
    "name": "ipython",
    "version": 3
   },
   "file_extension": ".py",
   "mimetype": "text/x-python",
   "name": "python",
   "nbconvert_exporter": "python",
   "pygments_lexer": "ipython3",
   "version": "3.8.5"
  }
 },
 "nbformat": 4,
 "nbformat_minor": 2
}

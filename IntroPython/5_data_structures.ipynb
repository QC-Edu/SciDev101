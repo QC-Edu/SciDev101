{
 "cells": [
  {
   "cell_type": "markdown",
   "metadata": {},
   "source": [
    "# Data Strutures\n",
    "\n",
    "In this notebook, we finally get to the building blocks of programming: data structures. Data structures are a way of organizing and storing data so that they can be accessed and worked with efficiently. They define the relationship between the data, and the operations that can be performed on the data. \n",
    "\n",
    "In Python, there are many different types of data structures, each with its own advantages and disadvantages. Some are highly specialized, while others (like arrays and lists) are more general.\n",
    "\n",
    "In this notebook, we'll cover the following data structures:\n",
    "\n",
    "1. **Lists**\n",
    "2. **Tuples**\n",
    "3. **Sets**\n",
    "4. **Dictionaries**\n",
    "\n",
    "Understanding these data structures and their respective operations is essential to becoming a proficient Python programmer. So let's get started."
   ]
  },
  {
   "cell_type": "markdown",
   "metadata": {},
   "source": [
    "## Lists\n",
    "\n",
    "A **list** is one of the most commonly used and versatile data structure in Python. Lists are:\n",
    "\n",
    "- **Ordered**: Each element in a list has an index, and the first element has index 0.\n",
    "- **Mutable**: Elements in a list can be changed without changing the structure of the list.\n",
    "- **Dynamic**: Lists can grow and shrink in size as needed.\n",
    "- **Nestable**: You can have lists within a list.\n",
    "- **Heterogeneous**: A list can contain elements of different types.\n",
    "\n",
    "which makes them great for storing collections of related data.\n",
    "\n",
    "### Creating Lists\n",
    "\n",
    "You can create a list by placing a comma-separated sequence of items in square brackets `[]`. Items can be of any data type (including other lists), and you can mix and match different data types as needed.\n",
    "\n",
    "Here's a couple different lists:"
   ]
  },
  {
   "cell_type": "code",
   "execution_count": null,
   "metadata": {},
   "outputs": [],
   "source": [
    "#empty list\n",
    "empty = []\n",
    "\n",
    "#list of numbers\n",
    "numbers = [1, 2, 3, 4, 5]\n",
    "\n",
    "#list of strings\n",
    "names = ['John', 'Jennifer', 'James', 'Rachel']\n",
    "\n",
    "#list of mixed data types\n",
    "mixed = [1, 'John', 3.5, [3, 4, 5]]\n",
    "\n",
    "print(numbers)\n",
    "print(names)\n",
    "print(mixed)"
   ]
  },
  {
   "cell_type": "markdown",
   "metadata": {},
   "source": [
    "You can also create a list using the `list()` function, which takes an iterable (like a range, string, or another list) as an argument.\n",
    "Here's a list created from the range built-in function:"
   ]
  },
  {
   "cell_type": "code",
   "execution_count": 1,
   "metadata": {},
   "outputs": [
    {
     "name": "stdout",
     "output_type": "stream",
     "text": [
      "[1, 2, 3, 4, 5]\n"
     ]
    }
   ],
   "source": [
    "numbers = list(range(1, 6))\n",
    "print(numbers)"
   ]
  },
  {
   "cell_type": "markdown",
   "metadata": {},
   "source": [
    "### Accessing Elements\n",
    "\n",
    "You can access individual elements in a list using square brackets `[]` with the index of the element. As seen earlier, the first element has an index of 0, the second element has an index of 1, and so on (negative indices behave as before also)."
   ]
  },
  {
   "cell_type": "code",
   "execution_count": null,
   "metadata": {},
   "outputs": [],
   "source": [
    "# Accessing elements using positive indexing\n",
    "numbers = [10, 20, 30, 40, 50]\n",
    "print(numbers[0])  # Output: 10 (first element)\n",
    "print(numbers[2])  # Output: 30 (third element)\n",
    "\n",
    "# Accessing elements using negative indexing\n",
    "print(numbers[-1])  # Output: 50 (last element)\n",
    "print(numbers[-2])  # Output: 40 (second-to-last element)"
   ]
  },
  {
   "cell_type": "markdown",
   "metadata": {},
   "source": [
    "\n",
    "If you try to access an index equal to or greater than the length of the list, Python will raise an `IndexError`.\n",
    "\n",
    "### Slicing Lists\n",
    "\n",
    "You can also access a range of elements from the list using slicing. The syntax for slicing is `list[start:stop:step]`."
   ]
  },
  {
   "cell_type": "code",
   "execution_count": 9,
   "metadata": {},
   "outputs": [
    {
     "name": "stdout",
     "output_type": "stream",
     "text": [
      "[30, 40, 50]\n",
      "[10, 30, 50]\n"
     ]
    }
   ],
   "source": [
    "numbers = [10, 20, 30, 40, 50]\n",
    "print(numbers[2:5])  # Output: [30, 40, 50] (elements from index 2 to 4)\n",
    "print(numbers[::2])  # Output: [10, 30, 50] (every 2nd element)"
   ]
  },
  {
   "cell_type": "markdown",
   "metadata": {},
   "source": [
    "\n",
    "### Modifying Lists\n",
    "\n",
    "Lists are mutable, so you can modify them in place without having to create a new list like you would if it were a string. Here are some of the methods you can use to modify a list:\n",
    "\n",
    "#### Changing an Element"
   ]
  },
  {
   "cell_type": "code",
   "execution_count": null,
   "metadata": {},
   "outputs": [],
   "source": [
    "numbers = [10, 20, 30, 40, 50]\n",
    "numbers[2] = 35\n",
    "\n",
    "print(numbers)  # Output: [10, 20, 35, 40, 50]"
   ]
  },
  {
   "cell_type": "markdown",
   "metadata": {},
   "source": [
    "\n",
    "in the above example, we changed the element at index 2 from 30 to 35.\n",
    "\n",
    "We can also change multiple elements at once by providing a slice of the list on the left side of the assignment operator."
   ]
  },
  {
   "cell_type": "code",
   "execution_count": null,
   "metadata": {},
   "outputs": [],
   "source": [
    "numbers = [10, 20, 30, 40, 50]\n",
    "numbers[1:4] = [200, 300, 400]\n",
    "\n",
    "print(numbers)  # Output: [10, 200, 300, 400, 50]"
   ]
  },
  {
   "cell_type": "markdown",
   "metadata": {},
   "source": [
    "\n",
    "#### List Methods and Operations\n",
    "\n",
    "Here are some of the methods you can use to modify a list:\n",
    "\n",
    "- **append()**: Adds an element to the end of the list.\n",
    "- **extend()**: Adds all elements of one list to another list.\n",
    "- **insert()**: Inserts an element at the specified index.\n",
    "- **remove()**: Removes the first occurrence of the specified element.\n",
    "- **pop()**: Removes the element at the specified index.\n",
    "- **clear()**: Removes all elements from the list.\n",
    "- **index()**: Returns the index of the first occurrence of the specified element.\n",
    "- **count()**: Returns the number of elements with the specified value.\n",
    "- **sort()**: Sorts the list.\n",
    "- **reverse()**: Reverses the order of the list."
   ]
  },
  {
   "cell_type": "code",
   "execution_count": null,
   "metadata": {},
   "outputs": [],
   "source": [
    "# Adding elements\n",
    "numbers.append(60)  # Adds 60 to the end\n",
    "print(numbers)  # Output: [10, 25, 30, 40, 50, 60]\n",
    "\n",
    "numbers.extend([70, 80])  # Adds multiple elements to the end\n",
    "print(numbers)  # Output: [10, 25, 30, 40, 50, 60, 70, 80]\n",
    "\n",
    "# Inserting an element\n",
    "numbers.insert(2, 15)  # Insert 15 at index 2\n",
    "print(numbers)  # Output: [10, 25, 15, 30, 40, 50, 60, 70, 80]\n",
    "\n",
    "# Removing an element\n",
    "numbers.remove(30)  # Removes the first occurrence of 30\n",
    "print(numbers)  # Output: [10, 25, 15, 40, 50, 60, 70, 80]\n",
    "\n",
    "# Sorting the list\n",
    "numbers.sort()\n",
    "print(numbers)  # Output: [10, 15, 25, 40, 50, 60, 70, 80]\n",
    "\n",
    "# Reversing the list\n",
    "numbers.reverse()\n",
    "print(numbers)  # Output: [80, 70, 60, 50, 40, 25, 15, 10]"
   ]
  },
  {
   "cell_type": "markdown",
   "metadata": {},
   "source": [
    "\n",
    "Lists also support the following operations:\n",
    "\n",
    "- **Concatenation**: You can concatenate two lists using the `+` operator.\n",
    "- **Repetition**: You can repeat a list using the `*` operator.\n",
    "- **Membership Test**: You can test if an element exists in a list using the `in` keyword.\n",
    "- **length**: You can find the number of elements in a list using the `len()` function."
   ]
  },
  {
   "cell_type": "code",
   "execution_count": null,
   "metadata": {},
   "outputs": [],
   "source": [
    "list1 = [1, 2, 3]\n",
    "list2 = [4, 5, 6]\n",
    "\n",
    "# Concatenation\n",
    "combined_list = list1 + list2\n",
    "print(combined_list)  # Output: [1, 2, 3, 4, 5, 6]\n",
    "\n",
    "# Repetition\n",
    "repeated_list = list1 * 3\n",
    "print(repeated_list)  # Output: [1, 2, 3, 1, 2, 3, 1, 2, 3]\n",
    "\n",
    "# Membership\n",
    "is_in_list = 3 in list1\n",
    "print(is_in_list)  # Output: True\n",
    "\n",
    "# Length\n",
    "list_length = len(list1)\n",
    "print(list_length)  # Output: 3"
   ]
  },
  {
   "cell_type": "markdown",
   "metadata": {},
   "source": [
    "## Tupules\n",
    "\n",
    "Tupules are very similar to lists, but they have one key difference: immutability. This means that once a tuple is created, you cannot change its values. This makes tuples useful for representing fixed collections of items, like the dimensions of a rectangle or the coordinates of a point.\n",
    "\n",
    "### Creating Tuples\n",
    "\n",
    "You can create a tuple by placing a comma-separated sequence of items in parentheses `()`."
   ]
  },
  {
   "cell_type": "code",
   "execution_count": null,
   "metadata": {},
   "outputs": [],
   "source": [
    "# Creating a simple tuple\n",
    "my_tuple = (1, 2, 3, 4, 5)\n",
    "\n",
    "# Creating a tuple with mixed data types\n",
    "mixed_tuple = (\"apple\", 1.23, 100)\n",
    "\n",
    "# Creating a single-element tuple\n",
    "single_tuple = (5,)"
   ]
  },
  {
   "cell_type": "markdown",
   "metadata": {},
   "source": [
    "### Accessing Elements\n",
    "\n",
    "Accessing elements in a tupule is the same as accessing elements in a list. You can use square brackets `[]` with the index of the element to access it and they support both positive and negative indexing.\n",
    "\n",
    "### Tuple Methods\n",
    "\n",
    "Tuples have only two methods: `count()` and `index()`. The `count()` method returns the number of times a specified value occurs in the tuple, and the `index()` method returns the index of the first occurrence of the specified value."
   ]
  },
  {
   "cell_type": "code",
   "execution_count": null,
   "metadata": {},
   "outputs": [],
   "source": [
    "# Counting occurrences\n",
    "tuple_example = (1, 2, 3, 2, 4, 2)\n",
    "print(tuple_example.count(2))  # Output: 3\n",
    "\n",
    "# Getting index of an element\n",
    "print(tuple_example.index(3))  # Output: 2 (index of first occurrence of 3)"
   ]
  },
  {
   "cell_type": "markdown",
   "metadata": {},
   "source": [
    "## Sets\n",
    "\n",
    "Sets are unordered collections of unique elements. This means that sets do not allow for duplicate elements, and the order of elements in a set is not guaranteed. Sets are useful for storing distinct values from a collection of items and are commonly used when you need to store items that must be unique, or when you need to perform mathematical set operations like union, intersection, and difference.\n",
    "\n",
    "### Creating Sets\n",
    "\n",
    "Sets are defined using curly braces `{}` with comma-separated elements, or by using the `set()` constructor."
   ]
  },
  {
   "cell_type": "code",
   "execution_count": null,
   "metadata": {},
   "outputs": [],
   "source": [
    "# Creating a set\n",
    "my_set = {1, 2, 3, 4, 5}\n",
    "\n",
    "# Creating a set using the set() constructor\n",
    "my_set = set([1, 2, 3, 4, 5])"
   ]
  },
  {
   "cell_type": "markdown",
   "metadata": {},
   "source": [
    "### Set Operations\n",
    "\n",
    "Sets support a variety of operations, including:\n",
    "\n",
    "- **Adding Elements**: You can add elements to a set using the `add()` method.\n",
    "- **Removing Elements**: You can remove elements from a set using the `remove()` method. If the element does not exist in the set, Python will raise a `KeyError`. To avoid this, you can use the `discard()` method, which will not raise an error if the element is not found. \n",
    "- **Pop**: You can remove and return an arbitrary element from a set using the `pop()` method. Since sets are unordered, there is no way to know which element will be removed.\n",
    "- **Set Operations**: You can perform set operations like union, intersection, and difference using the `|`, `&`, and `-` operators, respectively. You can also use the `union()`, `intersection()`, and `difference()` methods.\n",
    "- **Membership Test**: You can test if an element exists in a set using the `in` keyword. "
   ]
  },
  {
   "cell_type": "code",
   "execution_count": null,
   "metadata": {},
   "outputs": [],
   "source": [
    "# Set operations\n",
    "set_a = {1, 2, 3, 4}\n",
    "set_b = {3, 4, 5, 6}\n",
    "\n",
    "# Union\n",
    "union_set = set_a.union(set_b)\n",
    "print(union_set)  # Output: {1, 2, 3, 4, 5, 6}\n",
    "\n",
    "# Intersection\n",
    "intersection_set = set_a.intersection(set_b)\n",
    "print(intersection_set)  # Output: {3, 4}\n",
    "\n",
    "# Difference\n",
    "difference_set = set_a.difference(set_b)\n",
    "print(difference_set)  # Output: {1, 2}\n",
    "\n",
    "# Adding and removing elements\n",
    "set_a.add(7)\n",
    "set_a.remove(1)\n",
    "print(set_a)  # Output: {2, 3, 4, 5, 7}"
   ]
  },
  {
   "cell_type": "markdown",
   "metadata": {},
   "source": [
    "## Dictionaries\n",
    "\n",
    "Dictionaries are unordered collections of key-value pairs. They are used to store data in the form of key-value pairs, where each key is unique. Dictionaries are useful for associating unique keys to specific values, such as storing user information (name, age, etc.) or mapping IDs to products.\n",
    "\n",
    "### Creating Dictionaries\n",
    "\n",
    "Dictionaries are defined using curly braces `{}` with key-value pairs separated by a colon `:`. You can also create a dictionary using the `dict()` constructor. We show a very simple dictionary below.\n"
   ]
  },
  {
   "cell_type": "code",
   "execution_count": null,
   "metadata": {},
   "outputs": [],
   "source": [
    "# A simple dictionary\n",
    "person = {\"name\": \"Alice\", \"age\": 30, \"city\": \"New York\"}\n",
    "\n",
    "# An empty dictionary\n",
    "empty_dict = {}\n",
    "\n",
    "# Creating a dictionary with mixed types\n",
    "info = {\"product\": \"Laptop\", \"price\": 899.99, \"available\": True}"
   ]
  },
  {
   "cell_type": "markdown",
   "metadata": {},
   "source": [
    "You can probably see how valuable dictionaries can be when storing information. Below I will give a little more extensive example using lists."
   ]
  },
  {
   "cell_type": "code",
   "execution_count": 20,
   "metadata": {},
   "outputs": [],
   "source": [
    "nhl_League = {\n",
    "    'Eastern Conference': {\n",
    "        'Atlantic Division': ['Boston Bruins', 'Buffalo Sabres',\n",
    "                              'Detroit Red Wings', 'Florida Panthers', \n",
    "                              'Montreal Canadiens', 'Ottawa Senators', \n",
    "                              'Tampa Bay Lightning', 'Toronto Maple Leafs'],\n",
    "                              \n",
    "        'Metropolitan Division': ['Carolina Hurricanes', 'Columbus Blue Jackets', \n",
    "                                  'New Jersey Devils', 'New York Islanders', \n",
    "                                  'New York Rangers', 'Philadelphia Flyers', \n",
    "                                  'Pittsburgh Penguins', 'Washington Capitals']\n",
    "    },\n",
    "    \n",
    "    'Western Conference': {\n",
    "        'Central Division': ['Arizona Coyotes', 'Chicago Blackhawks', \n",
    "                             'Colorado Avalanche', 'Dallas Stars', \n",
    "                             'Minnesota Wild', 'Nashville Predators', \n",
    "                             'St. Louis Blues', 'Winnipeg Jets'],\n",
    "\n",
    "        'Pacific Division': ['Anaheim Ducks', 'Calgary Flames', \\\n",
    "                             'Edmonton Oilers', 'Los Angeles Kings', \\\n",
    "                             'San Jose Sharks', 'Seattle Kraken', \\\n",
    "                    \n",
    "                             'Vancouver Canucks', 'Vegas Golden Knights']\n",
    "    }\n",
    "}"
   ]
  },
  {
   "cell_type": "markdown",
   "metadata": {},
   "source": [
    "In this example, we have created a dictionary `nhl_League` whose keys are the `Eastern Conference` and `Western Conference`. Unlike the previous example, both conferences are made of divisions- so we use a dictionary for each conference as well to store the divisions. Since we won't go further than teams, Each division is a key, with its values represented by a list of the different teams.\n",
    "\n",
    "### Accessing Elements\n",
    "You can access the value associated with a key in a dictionary by placing the key in square brackets `[]` or using the `get()` method. If the key does not exist in the dictionary, Python will raise a `KeyError`."
   ]
  },
  {
   "cell_type": "code",
   "execution_count": 21,
   "metadata": {},
   "outputs": [
    {
     "name": "stdout",
     "output_type": "stream",
     "text": [
      "{'Atlantic Division': ['Boston Bruins', 'Buffalo Sabres', 'Detroit Red Wings', 'Florida Panthers', 'Montreal Canadiens', 'Ottawa Senators', 'Tampa Bay Lightning', 'Toronto Maple Leafs'], 'Metropolitan Division': ['Carolina Hurricanes', 'Columbus Blue Jackets', 'New Jersey Devils', 'New York Islanders', 'New York Rangers', 'Philadelphia Flyers', 'Pittsburgh Penguins', 'Washington Capitals']}\n",
      "['Boston Bruins', 'Buffalo Sabres', 'Detroit Red Wings', 'Florida Panthers', 'Montreal Canadiens', 'Ottawa Senators', 'Tampa Bay Lightning', 'Toronto Maple Leafs']\n"
     ]
    }
   ],
   "source": [
    "# Accessing a value by key\n",
    "print(nhl_League['Eastern Conference']) # Output: {'Atlantic Division': [...], 'Metropolitan Division': [...]}\n",
    "\n",
    "print(nhl_League['Eastern Conference']['Atlantic Division']) # Output: ['Boston Bruins', 'Buffalo Sabres', ...]"
   ]
  },
  {
   "cell_type": "markdown",
   "metadata": {},
   "source": [
    "\n",
    "### Modifying Dictionaries\n",
    "\n",
    "Dictionaries are mutable, so you can modify them in place. You can change the value associated with a key, add new key-value pairs, or remove existing key-value pairs.\n"
   ]
  },
  {
   "cell_type": "code",
   "execution_count": 22,
   "metadata": {},
   "outputs": [
    {
     "name": "stdout",
     "output_type": "stream",
     "text": [
      "['Boston Bruins', 'Buffalo Sabres', 'Detroit Red Wings', 'Florida Panthers', 'Montreal Canadiens', 'Ottawa Senators', 'Tampa Bay Lightning', 'GTA ClownShow']\n",
      "['Boston Bruins', 'Buffalo Sabres', 'Detroit Red Wings', 'Florida Panthers', 'Montreal Canadiens', 'Ottawa Senators', 'Tampa Bay Lightning']\n",
      "{'Atlantic Division': ['Boston Bruins', 'Buffalo Sabres', 'Detroit Red Wings', 'Florida Panthers', 'Montreal Canadiens', 'Ottawa Senators', 'Tampa Bay Lightning'], 'Metropolitan Division': ['Carolina Hurricanes', 'Columbus Blue Jackets', 'New Jersey Devils', 'New York Islanders', 'New York Rangers', 'Philadelphia Flyers', 'Pittsburgh Penguins', 'Washington Capitals'], 'Clownshow Division': ['Toronto Maple Leafs']}\n"
     ]
    }
   ],
   "source": [
    "# Modifying a value\n",
    "nhl_League['Eastern Conference']['Atlantic Division'][7] = \"GTA ClownShow\"\n",
    "print(nhl_League['Eastern Conference']['Atlantic Division'])  # Output: {'Eastern Conference': {'Atlantic Division': ['Boston Bruins', 'Buffalo Sabres', ...}\n",
    "\n",
    "# Removing a key-value pair\n",
    "del nhl_League['Eastern Conference']['Atlantic Division'][7]\n",
    "print(nhl_League['Eastern Conference']['Atlantic Division'])  # Output: ['Boston Bruins', 'Buffalo Sabres', ...]\n",
    "\n",
    "# Adding a new key-value pair\n",
    "nhl_League['Eastern Conference']['Clownshow Division'] = ['Toronto Maple Leafs']\n",
    "print(nhl_League['Eastern Conference']) # Output: {'Atlantic Division': ['Boston Bruins', 'Buffalo Sabres', ...], 'Metropolitan Division': ['Carolina Hurricanes', 'Columbus Blue Jackets', ...], 'Clownshow Division': ['Toronto Maple Leafs']}\n",
    "\n"
   ]
  },
  {
   "cell_type": "markdown",
   "metadata": {},
   "source": [
    "### Dictionary Methods\n",
    "\n",
    "Dictionaries have several methods that you can use to manipulate them:\n",
    "\n",
    "- **keys()**: Returns a list of all keys in the dictionary.\n",
    "- **values()**: Returns a list of all values in the dictionary.\n",
    "- **items()**: Returns a list of key-value pairs as tuples.\n",
    "- **update()**: Updates the dictionary with the specified key-value pairs.\n",
    "- **pop()**: Removes the key-value pair with the specified key and returns the value."
   ]
  },
  {
   "cell_type": "code",
   "execution_count": 30,
   "metadata": {},
   "outputs": [
    {
     "name": "stdout",
     "output_type": "stream",
     "text": [
      "dict_keys(['Eastern Conference', 'Western Conference', 'Stanley Cup'])\n",
      "dict_values([['Arizona Coyotes', 'Chicago Blackhawks', 'Colorado Avalanche', 'Dallas Stars', 'Minnesota Wild', 'Nashville Predators', 'St. Louis Blues', 'Winnipeg Jets'], ['Anaheim Ducks', 'Calgary Flames', 'Edmonton Oilers', 'Los Angeles Kings', 'San Jose Sharks', 'Seattle Kraken', 'Vancouver Canucks', 'Vegas Golden Knights']])\n",
      "dict_items([('Central Division', ['Arizona Coyotes', 'Chicago Blackhawks', 'Colorado Avalanche', 'Dallas Stars', 'Minnesota Wild', 'Nashville Predators', 'St. Louis Blues', 'Winnipeg Jets']), ('Pacific Division', ['Anaheim Ducks', 'Calgary Flames', 'Edmonton Oilers', 'Los Angeles Kings', 'San Jose Sharks', 'Seattle Kraken', 'Vancouver Canucks', 'Vegas Golden Knights'])])\n",
      "{'Eastern Conference': {'Atlantic Division': ['Boston Bruins', 'Buffalo Sabres', 'Detroit Red Wings', 'Florida Panthers', 'Montreal Canadiens', 'Ottawa Senators', 'Tampa Bay Lightning'], 'Metropolitan Division': ['Carolina Hurricanes', 'Columbus Blue Jackets', 'New Jersey Devils', 'New York Islanders', 'New York Rangers', 'Philadelphia Flyers', 'Pittsburgh Penguins', 'Washington Capitals']}, 'Western Conference': {'Central Division': ['Arizona Coyotes', 'Chicago Blackhawks', 'Colorado Avalanche', 'Dallas Stars', 'Minnesota Wild', 'Nashville Predators', 'St. Louis Blues', 'Winnipeg Jets'], 'Pacific Division': ['Anaheim Ducks', 'Calgary Flames', 'Edmonton Oilers', 'Los Angeles Kings', 'San Jose Sharks', 'Seattle Kraken', 'Vancouver Canucks', 'Vegas Golden Knights']}, 'Stanley Cup': 'Florida Panthers'}\n"
     ]
    },
    {
     "ename": "KeyError",
     "evalue": "'Clownshow Division'",
     "output_type": "error",
     "traceback": [
      "\u001b[0;31m---------------------------------------------------------------------------\u001b[0m",
      "\u001b[0;31mKeyError\u001b[0m                                  Traceback (most recent call last)",
      "Cell \u001b[0;32mIn[30], line 18\u001b[0m\n\u001b[1;32m     15\u001b[0m \u001b[38;5;28mprint\u001b[39m(nhl_League)  \n\u001b[1;32m     17\u001b[0m \u001b[38;5;66;03m# Popping an item\u001b[39;00m\n\u001b[0;32m---> 18\u001b[0m byebye \u001b[38;5;241m=\u001b[39m \u001b[43mnhl_League\u001b[49m\u001b[43m[\u001b[49m\u001b[38;5;124;43m'\u001b[39;49m\u001b[38;5;124;43mEastern Conference\u001b[39;49m\u001b[38;5;124;43m'\u001b[39;49m\u001b[43m]\u001b[49m\u001b[38;5;241;43m.\u001b[39;49m\u001b[43mpop\u001b[49m\u001b[43m(\u001b[49m\u001b[38;5;124;43m'\u001b[39;49m\u001b[38;5;124;43mClownshow Division\u001b[39;49m\u001b[38;5;124;43m'\u001b[39;49m\u001b[43m)\u001b[49m\n\u001b[1;32m     19\u001b[0m \u001b[38;5;28mprint\u001b[39m(byebye)  \u001b[38;5;66;03m# Output: ['Toronto Maple Leafs']\u001b[39;00m\n\u001b[1;32m     20\u001b[0m \u001b[38;5;28mprint\u001b[39m(nhl_League[\u001b[38;5;124m'\u001b[39m\u001b[38;5;124mEastern Conference\u001b[39m\u001b[38;5;124m'\u001b[39m])  \u001b[38;5;66;03m# Output: {'Eastern Conference': {'Atlantic Division': ['Boston Bruins', 'Buffalo Sabres', ...], 'Metropolitan Division': ['Carolina Hurricanes', 'Columbus Blue Jackets', ...]}\u001b[39;00m\n",
      "\u001b[0;31mKeyError\u001b[0m: 'Clownshow Division'"
     ]
    }
   ],
   "source": [
    "# Getting all keys\n",
    "keys = nhl_League.keys()\n",
    "print(keys) # Output: dict_keys(['Eastern Conference', 'Western Conference'])\n",
    "\n",
    "# Getting all values\n",
    "values = nhl_League['Western Conference'].values()\n",
    "print(values)  # Output: dict_values([['Arizona Coyotes', 'Chicago Blackhawks', ...], ['Anaheim Ducks', 'Calgary Flames', ...]])\n",
    "\n",
    "# Getting all key-value pairs\n",
    "items = nhl_League['Western Conference'].items() \n",
    "print(items)   # Output: dict_items([('Central Division', ['Arizona Coyotes', 'Chicago Blackhawks', ...]), ('Pacific Division', ['Anaheim Ducks', 'Calgary Flames', ...])])\n",
    "\n",
    "# Updating dictionary\n",
    "nhl_League.update({'Stanley Cup': 'Florida Panthers'})\n",
    "print(nhl_League)  \n",
    "\n",
    "# Popping an item\n",
    "byebye = nhl_League['Eastern Conference'].pop('Clownshow Division')\n",
    "print(byebye)  # Output: ['Toronto Maple Leafs']\n",
    "print(nhl_League['Eastern Conference'])  # Output: {'Eastern Conference': {'Atlantic Division': ['Boston Bruins', 'Buffalo Sabres', ...], 'Metropolitan Division': ['Carolina Hurricanes', 'Columbus Blue Jackets', ...]}"
   ]
  },
  {
   "cell_type": "markdown",
   "metadata": {},
   "source": []
  },
  {
   "cell_type": "markdown",
   "metadata": {},
   "source": [
    "\n",
    "\n",
    "```"
   ]
  },
  {
   "cell_type": "markdown",
   "metadata": {},
   "source": []
  }
 ],
 "metadata": {
  "kernelspec": {
   "display_name": "Python 3 (ipykernel)",
   "language": "python",
   "name": "python3"
  },
  "language_info": {
   "codemirror_mode": {
    "name": "ipython",
    "version": 3
   },
   "file_extension": ".py",
   "mimetype": "text/x-python",
   "name": "python",
   "nbconvert_exporter": "python",
   "pygments_lexer": "ipython3",
   "version": "3.12.8"
  }
 },
 "nbformat": 4,
 "nbformat_minor": 2
}

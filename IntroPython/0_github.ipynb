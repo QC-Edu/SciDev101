{
 "cells": [
  {
   "cell_type": "markdown",
   "metadata": {},
   "source": [
    "### Git/GitHub101\n",
    "\n",
    "# Introduction\n",
    "Probably one of the most important skills a programmer can have, is organization. Git/GitHub are two tools which are used extensively across the software industry and essentially help you organize and keep track of code versions, code history, and who has done what in a piece of software.\n",
    "\n",
    "## What is Git?\n",
    "Git is technically the nuts-and-bolts of the version control system that allows you to track changes in your code, collaborate with others, and revert to previous versions when needed. It is the set of tools that helps teams work efficiently by managing different versions of a project.\n",
    "\n",
    "### Why Use Git?\n",
    "- **Track Changes**: Git allows you to track changes in your codebase, so you can see what changes were made, who made them, and when they were made.\n",
    "- **Collaborate**: Git allows multiple developers to work on the same project at the same time. It helps you avoid conflicts and merge changes from different developers.\n",
    "- **Revert Changes**: Git allows you to revert to a previous version of your codebase if something goes wrong.\n",
    "- **Branching/Merging**: Git allows you to create branches to work on new features or bug fixes without affecting the main codebase. You can merge changes from different branches when they are ready.\n",
    "- **Open Source**: Git is open-source, so you can use it for free and contribute to the community.\n",
    "- **Backup**: Git allows you to store your codebase on a remote server, so you have a backup in case your local copy is lost or corrupted.\n",
    "\n",
    "\n",
    "## What is GitHub?\n",
    "GitHub is a cloud-based platform that uses Git for version control. It allows developers to store their projects, collaborate with others, and contribute to open-source projects. \n",
    "\n",
    "### Key Features \n",
    "- **Remote Repository**: GitHub allows you to store your codebase on a remote server- you can access your code from anywhere and you have a backup in case your local copy is  lost or corrupted.\n",
    "- **Pull Requests**: GitHub allows you to create pull requests to propose changes to a project. Other developers can review your changes and merge them into the main codebase.\n",
    "- **Issues**: GitHub allows you to create issues to track bugs, feature requests, and other tasks. You can assign issues to developers, set deadlines, and track progress.\n",
    "- **Actions**: GitHub allows you to automate your workflow with GitHub Actions. You can create custom workflows to build, test, and deploy your codebase.\n",
    "\n",
    "\n",
    "In this notebook, we will go over how to set up Git, use basic commands, and collaborate on GitHub.\n",
    "\n"
   ]
  },
  {
   "cell_type": "markdown",
   "metadata": {},
   "source": [
    "# 0. Making a GitHub Account\n",
    "\n",
    "Before we start using Git and GitHub, you need to create a GitHub account. Go to [GitHub](https//github.com) and sign up for a free account. Once you have created an account, you can start using Git and GitHub.\n",
    "\n",
    "# 1. Installing Git\n",
    "\n",
    "To use Git on your local machine, you need to install Git. Here are the steps to install Git on your machine:\n",
    "\n",
    "### Windows\n",
    "1. Download the latest version of Git from the [official Git website](https://git-scm.com).\n",
    "2. Run the installer and follow the instructions.\n",
    "3. Make sure to enable the option to use Git from the Windows Command Prompt. This will allow you to use Git from the Command Prompt or Git Bash.\n",
    "\n",
    "### Mac\n",
    "0. You could use the same method as windows, but I would recommend using Homebrew to install Git.\n",
    "1. Open the Terminal application.\n",
    "2. Use the following command to install Git using Homebrew:\n",
    "```bash\n",
    "brew install git\n",
    "```\n",
    "\n",
    "### Linux\n",
    "1. Use the package manager to install Git. For example, on Ubuntu/Debian, you can run the following command:\n",
    "```bash\n",
    "sudo apt-get update\n",
    "sudo apt-get install git\n",
    "```\n",
    "2. Open the Terminal application to start using Git.\n",
    "\n",
    "# 2. Setting Up Git\n",
    "\n",
    "After installing Git, you need to set up your Git username and email address. Here are the steps to set up Git:\n",
    "\n",
    "1. Open the Git Bash or Terminal application.\n",
    "2. Run the following commands to set up your Git username and email address:\n",
    "```bash\n",
    "git config --global user.name \"Your Name\"\n",
    "git config --global user.email \""
   ]
  },
  {
   "cell_type": "markdown",
   "metadata": {},
   "source": []
  }
 ],
 "metadata": {
  "language_info": {
   "name": "python"
  }
 },
 "nbformat": 4,
 "nbformat_minor": 2
}

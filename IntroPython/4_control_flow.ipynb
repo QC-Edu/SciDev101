{
 "cells": [
  {
   "cell_type": "markdown",
   "metadata": {},
   "source": [
    "# Program Logic and Flow\n",
    "\n",
    "In this notebook, we will be looking at how we can control the flow of our program using conditional statements and loops. These are the building blocks of any program and are essential in code organization and execution."
   ]
  },
  {
   "cell_type": "markdown",
   "metadata": {},
   "source": [
    "## Comparison and Logical Operators\n",
    "\n",
    "Before we dive into actual control flow statements, it is important to understand how we can compare values in Python. In Python, there are several comparison operators that allow us to compare values. These operators return a boolean value, either `True` or `False`. Here are some of the **comparison operators** in Python:\n",
    "\n",
    "- `==`: Equal to\n",
    "- `!=`: Not equal to\n",
    "- `>`: Greater than\n",
    "- `<`: Less than\n",
    "- `>=`: Greater than or equal to\n",
    "- `<=`: Less than or equal to"
   ]
  },
  {
   "cell_type": "code",
   "execution_count": null,
   "metadata": {},
   "outputs": [],
   "source": [
    "a = 5\n",
    "b = 10\n",
    "\n",
    "print(a == b) # False\n",
    "print(a != b) # True\n",
    "print(a > b) # False\n",
    "print(a < b) # True"
   ]
  },
  {
   "cell_type": "markdown",
   "metadata": {},
   "source": [
    "In addition to comparison operators, we also have **logical operators** that allow us to combine multiple comparison operators. Here are some of the logical operators in Python:\n",
    "\n",
    "- `and`: Returns `True` if both statements are true\n",
    "- `or`: Returns `True` if one of the statements is true\n",
    "- `not`: Reverse the result, returns `False` if the result is true\n"
   ]
  },
  {
   "cell_type": "code",
   "execution_count": null,
   "metadata": {},
   "outputs": [],
   "source": [
    "a = 5\n",
    "b = 10\n",
    "c = 15\n",
    "\n",
    "print(a < b and b < c) # True\n",
    "print(a < b or b > c) # True\n",
    "print(not a < b) # False"
   ]
  },
  {
   "cell_type": "markdown",
   "metadata": {},
   "source": [
    "## Conditional Statements\n",
    "\n",
    "Conditional statements are used to execute a block of code based on a condition. The most common conditional statements are `if`, `elif`, and `else`.\n",
    "\n",
    "### if statement\n",
    "\n",
    "The `if` statement is used to execute a block of code if a condition is `True`. The syntax of the `if` statement is as follows:"
   ]
  },
  {
   "cell_type": "code",
   "execution_count": null,
   "metadata": {},
   "outputs": [],
   "source": [
    "age = 18\n",
    "\n",
    "if age >= 18:\n",
    "    print(\"You are an adult\")"
   ]
  },
  {
   "cell_type": "markdown",
   "metadata": {},
   "source": [
    "### if-else statement\n",
    "\n",
    "The `if-else` statement is used to execute a block of code if the condition is `True`, and another block of code if the condition is `False`. The syntax of the `if-else` statement is as follows:"
   ]
  },
  {
   "cell_type": "code",
   "execution_count": 31,
   "metadata": {},
   "outputs": [
    {
     "name": "stdout",
     "output_type": "stream",
     "text": [
      "You are a minor\n"
     ]
    }
   ],
   "source": [
    "age = 15\n",
    "\n",
    "if age >= 18:\n",
    "    print(\"You are an adult\")\n",
    "else:\n",
    "    print(\"You are a minor\")"
   ]
  },
  {
   "cell_type": "markdown",
   "metadata": {},
   "source": [
    "### if-elif-else statement\n",
    "\n",
    "The `if-elif-else` statement is used to execute a block of code if the first condition is `True`, another block of code if the second condition is `True`, and another block of code if none of the conditions are `True`. The syntax of the `if-elif-else` statement is as follows:"
   ]
  },
  {
   "cell_type": "code",
   "execution_count": 32,
   "metadata": {},
   "outputs": [
    {
     "name": "stdout",
     "output_type": "stream",
     "text": [
      "You are a teenager\n"
     ]
    }
   ],
   "source": [
    "age = 15\n",
    "\n",
    "if age >= 18:\n",
    "    print(\"You are an adult\")\n",
    "elif age >= 13:\n",
    "    print(\"You are a teenager\")\n",
    "else:\n",
    "    print(\"You are a child\")"
   ]
  },
  {
   "cell_type": "markdown",
   "metadata": {},
   "source": [
    "## Loops\n",
    "\n",
    "Loops are your best friend when you want to repeat a block of code multiple times. There are two types of loops in Python: `for` loop and `while` loop.\n",
    "\n",
    "### for loop\n",
    "\n",
    "The `for` loop is used to iterate over a sequence of elements. The syntax of the `for` loop is as follows:"
   ]
  },
  {
   "cell_type": "code",
   "execution_count": 33,
   "metadata": {},
   "outputs": [
    {
     "name": "stdout",
     "output_type": "stream",
     "text": [
      "0\n",
      "1\n",
      "2\n",
      "3\n",
      "4\n"
     ]
    }
   ],
   "source": [
    "counting = range(5)\n",
    "\n",
    "for i in counting:\n",
    "    print(i) # Prints numbers 0, 1, 2, 3, 4"
   ]
  },
  {
   "cell_type": "markdown",
   "metadata": {},
   "source": [
    "in this example, we are using the `range()` function to generate a sequence of numbers from 0 to 4. The `for` loop then iterates over this sequence and prints each number. Later we will see more examples of how we can use the `for` loop- but for now, just remember that the `for` loop is used to iterate over a sequence of elements (however it is given).\n",
    "\n",
    "### while loop\n",
    "\n",
    "The `while` loop also loops through a block of code as long as a condition is `True`. This means that the loop will continue to run until the condition is `False`. The syntax of the `while` loop is as follows:"
   ]
  },
  {
   "cell_type": "code",
   "execution_count": 34,
   "metadata": {},
   "outputs": [
    {
     "name": "stdout",
     "output_type": "stream",
     "text": [
      "10\n",
      "9\n",
      "8\n",
      "7\n",
      "6\n",
      "5\n",
      "4\n",
      "3\n",
      "2\n",
      "1\n"
     ]
    }
   ],
   "source": [
    "countdown = 10\n",
    "\n",
    "while countdown > 0:\n",
    "    print(countdown)\n",
    "    countdown -= 1"
   ]
  },
  {
   "cell_type": "markdown",
   "metadata": {},
   "source": [
    "**A word of caution**: Be careful when using `while` loops as they can run indefinitely if the condition is never `False`. This can lead to an infinite loop and crash your program.\n",
    "\n",
    "## Control Statements \n",
    "\n",
    "In addition to conditional statements and loops, Python also provides control statements that allow you to control the flow of your program. Here are some of the control statements in Python:\n",
    "\n",
    "- `break`: The `break` statement is used to exit a loop prematurely. It is often used to stop the loop when a certain condition is met.\n",
    "\n",
    "- `continue`: The `continue` statement is used to skip the rest of the code inside a loop and continue with the next iteration.\n",
    "\n",
    "- `pass`: The `pass` statement is used when a statement is required syntactically but you do not want to execute any code. It is often used as a placeholder."
   ]
  },
  {
   "cell_type": "code",
   "execution_count": 35,
   "metadata": {},
   "outputs": [
    {
     "name": "stdout",
     "output_type": "stream",
     "text": [
      "0\n",
      "1\n",
      "2\n",
      "3\n",
      "4\n"
     ]
    }
   ],
   "source": [
    "for i in range(10):\n",
    "    if i == 5:\n",
    "        break\n",
    "    print(i) # Prints numbers 0, 1, 2, 3, 4"
   ]
  },
  {
   "cell_type": "markdown",
   "metadata": {},
   "source": [
    "In this example, the `break` statement is used to exit the loop when `i` is equal to 5. This means that the loop will stop when `i` is 5 and will not print any numbers after that."
   ]
  },
  {
   "cell_type": "code",
   "execution_count": 36,
   "metadata": {},
   "outputs": [
    {
     "name": "stdout",
     "output_type": "stream",
     "text": [
      "0\n",
      "1\n",
      "2\n",
      "3\n",
      "4\n",
      "6\n",
      "7\n",
      "8\n",
      "9\n"
     ]
    }
   ],
   "source": [
    "for i in range(10):\n",
    "    if i == 5:\n",
    "        continue\n",
    "    print(i) # Prints numbers 0, 1, 2, 3, 4, 6, 7, 8, 9"
   ]
  },
  {
   "cell_type": "markdown",
   "metadata": {},
   "source": [
    "In this example, the `continue` statement is used to skip the rest of the code inside the loop when `i` is equal to 5. This means that the loop will continue with the next iteration and will not print the number 5."
   ]
  },
  {
   "cell_type": "code",
   "execution_count": 37,
   "metadata": {},
   "outputs": [],
   "source": [
    "for i in range(10):\n",
    "    pass"
   ]
  },
  {
   "cell_type": "markdown",
   "metadata": {},
   "source": [
    "In this example, the `pass` statement is used as a placeholder. It does not do anything, but it is required syntactically to define an empty block of code.\n"
   ]
  },
  {
   "cell_type": "markdown",
   "metadata": {},
   "source": [
    "## List Comprehension"
   ]
  }
 ],
 "metadata": {
  "kernelspec": {
   "display_name": "Python 3 (ipykernel)",
   "language": "python",
   "name": "python3"
  },
  "language_info": {
   "codemirror_mode": {
    "name": "ipython",
    "version": 3
   },
   "file_extension": ".py",
   "mimetype": "text/x-python",
   "name": "python",
   "nbconvert_exporter": "python",
   "pygments_lexer": "ipython3",
   "version": "3.12.8"
  }
 },
 "nbformat": 4,
 "nbformat_minor": 2
}

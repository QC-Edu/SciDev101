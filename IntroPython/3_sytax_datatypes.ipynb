{
 "cells": [
  {
   "cell_type": "markdown",
   "metadata": {},
   "source": [
    "# Basics of Python\n",
    "\n",
    "In this notebook, we will cover the basics of Python programming language.\n",
    "\n",
    "## &#x1f945; Learning Objectives\n",
    "\n",
    "- Basic Python Syntax\n",
    "- How to store and assign values to variables\n",
    "- Basic Data Types\n",
    "- Basic Arithmetic Operators\n",
    "- What are Strings\n"
   ]
  },
  {
   "cell_type": "markdown",
   "metadata": {},
   "source": [
    "## Syntax \n",
    "\n",
    "As previously mentioned, one of the key features of Python is its readability. Python code is written in a very clean and intuitive way. Syntax refers to the structure of the language (i.e. the rules that define how the language is written). This section will cover some of the basic syntax rules of Python.\n",
    "\n",
    "### Comments\n",
    "Comments are used to explain the code and make it more readable. They are ignored by the Python interpreter- in other words - they are notes for yourself (and most importantly others) and are *IGNORED* by the computer. \n",
    "\n",
    "There are two types of comments in Python:\n",
    "\n",
    "1. Single-line comments: These comments are written using the `#` symbol. Any text written after the `#` symbol is considered a comment.\n",
    "\n",
    "2. Multi-line comments: These comments are written using triple quotes `'''` or `\"\"\"`. Any text written between these triple quotes is considered a comment.\n",
    "\n",
    "### Example:\n",
    "```python\n",
    "# This is a single-line comment\n",
    "\n",
    "'''         \n",
    "This is a multi-line comment\n",
    "This is a multi-line comment\n",
    "This is a multi-line comment\n",
    "'''\n",
    "\n",
    "\"\"\"\n",
    "This is also a multi-line comment\n",
    "using double quotes\n",
    "\"\"\"\n",
    "```\n",
    "\n",
    "### Indentation\n",
    "\n",
    "Python uses indentation to define code blocks. Indentation refers to the spaces at the beginning of a code line. This is much like how paragraphs or outlines are indented in English.\n",
    "\n",
    "#### Example:\n",
    "\n",
    "\n",
    "\n",
    "\n"
   ]
  },
  {
   "cell_type": "code",
   "execution_count": 11,
   "metadata": {},
   "outputs": [
    {
     "name": "stdout",
     "output_type": "stream",
     "text": [
      "Five is greater than two!\n"
     ]
    }
   ],
   "source": [
    "if 5 > 2:\n",
    "    print(\"Five is greater than two!\")# This line is indented, meaning it's inside the if statement block."
   ]
  },
  {
   "cell_type": "markdown",
   "metadata": {},
   "source": [
    "*Aside:* in Python, the convention is to use 4 spaces for indentation - I prefer tabs (not necessarily recommended)- but the important thing is to 1) **NEVER** mix the two (you will thank me later) and 2) *BE* consistent or\n",
    "Python will throw an error.\n"
   ]
  },
  {
   "cell_type": "markdown",
   "metadata": {},
   "source": [
    "## Variables and Constants\n",
    "\n",
    "### Variables\n",
    "\n",
    "*Variable* is the name given to a memory location to store a value. We can create a variable by assigning a value to it using the `=` operator.\n",
    "\n",
    "#### Example:\n",
    "\n",
    "```python   \n",
    "year = 2025 #Integer variable\n",
    "name = \"John\" #String variable\n",
    "time = 4.5 #Float variable\n",
    "```\n",
    "Python is a dynamically typed language, meaning you don't have to declare the type of a variable when you create one. Python automatically assigns the data type based on the value you assign to the variable. Soon we will discuss the various data types in Python.\n",
    "\n",
    "#### Naming Conventions/Rules for Variables\n",
    "\n",
    "The following are pretty much the only make-or-break rules for naming variables in Python:\n",
    "\n",
    "1) Variable names are case-sensitive (i.e. `name` and `Name` are two different variables).\n",
    "\n",
    "2) Variable names must start with a letter or an underscore `_`. i.e. no numbers or special characters.\n",
    "\n",
    "3) Variable names can only contain letters, numbers, and underscores. *Spaces are not allowed.*\n",
    "\n",
    "4) Variable names cannot be a reserved keyword in Python. For example, you cannot name a variable `if` or `for` as they are reserved keywords in Python. You can see a list of reserved keywords in Python [here](https://docs.python.org/3/reference/lexical_analysis.html#keywords).\n",
    "\n",
    "The following are conventions for naming variables in Python - this is more of a \"Do as I say, not as I do\" situation:\n",
    "\n",
    "1) Variable names should be descriptive and meaningful. For example, `name` is a better variable name than `n`.\n",
    "\n",
    "2) Variable names should be written in lowercase with underscores separating words. For example, `first_name` is a better variable name than `firstName`.\n",
    "\n",
    "3) If a variable name is long, you can use camel case. For example, `northWestPolytechnic` is a better variable name than `north_west_polytechnic`, but you would be better off using `nwp` or `nw_poly` etc. instead.\n",
    "\n",
    "*Note:* The value stored in a variable can be changed during program execution. A variable is created the moment you first assign a value to it.\n",
    "\n",
    "### Constants\n",
    "\n",
    "Unlike other languages, Python does not have a built-in constant type. Generally, we use all capital letters to define a constant in Python. \n",
    "\n",
    "#### Example:\n",
    "\n",
    "```python\n",
    "PI = 3.14\n",
    "```\n",
    "\n",
    "Alas, Python will allow you to change this value of `PI` - but that would eliminate the point of it being a constant in the first place.\n",
    "\n",
    "\n",
    "\n"
   ]
  },
  {
   "cell_type": "markdown",
   "metadata": {},
   "source": [
    "## Basic Data Types of Python\n",
    "\n",
    "Python supports a variety of data types. Understanding each of these will help you select the appropriate type (or structure) to hold (or modify) the data you need to work with. Each comes with its own set of operations, methods, caveats, and best use cases. However, often times it is up to you, the programmer, to decide which data type you prefer to use since many of them can be used interchangeably - *not optimally, but interchangeably*.\n",
    "\n",
    "### Numeric Data Types\n",
    "\n",
    "Python supports three types of numeric data types:\n",
    "\n",
    "1) Integer: These are whole numbers (positive or negative) without a decimal point. For example, `5`, `-3`, `0`, `1000`, etc.   \n",
    "\n",
    "2) Float: These are numbers with a decimal point or numbers written in scientific notation. For example, `3.14`, `2.0`, `1e-9`, etc.    \n",
    "\n",
    "3) Complex: These are numbers written in the form `a+bj`, where `a` is the real part and `b` is the imaginary part. For example, `3+4j`, `1-2j`, etc. These are not used as frequently as integers and floats in general programming. Usually when you need to work with complex numbers, you will be using a library that supports complex numbers.\n",
    "\n",
    "*Aside:* Python has built-in support for arbitrary precision integers. This means that you can work with integers of any size and not be limited by the size of the computer's memory. This is not the case with floats, which are limited by the computer's memory.\n",
    "\n",
    "*Note:* At any point in time, you can always check the data type of a variable using the `type()` function.\n"
   ]
  },
  {
   "cell_type": "code",
   "execution_count": 12,
   "metadata": {},
   "outputs": [
    {
     "name": "stdout",
     "output_type": "stream",
     "text": [
      "<class 'int'>\n",
      "<class 'float'>\n",
      "<class 'complex'>\n"
     ]
    }
   ],
   "source": [
    "a = 5 #Integer\n",
    "b = 3.14 #Float\n",
    "c = 3+4j #Complex\n",
    "\n",
    "print(type(a)) #Output: <class 'int'>\n",
    "print(type(b)) #Output: <class 'float'>\n",
    "print(type(c)) #Output: <class 'complex'>"
   ]
  },
  {
   "cell_type": "markdown",
   "metadata": {},
   "source": [
    "## Arithmetic Operators and Expressions\n",
    "\n",
    "Python supports the standard set of arithmetic operations, including addition, subtraction, multiplication, and division, along with more advanced operations like exponentiation and modulus.\n",
    "\n",
    "### Basic Arithmetic Operators\n",
    "\n",
    "1) **Addition (+):** Adds two operands. For example, `a + b` will give the sum of `a` and `b`.\n",
    "\n",
    "2) **Subtraction (-):** Subtracts the second operand from the first. For example, `a - b` will give the difference between `a` and `b`.\n",
    "\n",
    "3) **Multiplication (*):** Multiplies two operands. For example, `a * b` will give the product of `a` and `b`.\n",
    "\n",
    "4) **Division (/):** Divides the first operand by the second. For example, `a / b` will give the quotient when `a` is divided by `b`.\n",
    "\n",
    "Example:\n"
   ]
  },
  {
   "cell_type": "code",
   "execution_count": 13,
   "metadata": {},
   "outputs": [
    {
     "name": "stdout",
     "output_type": "stream",
     "text": [
      "7\n",
      "3\n",
      "10\n",
      "2.5\n"
     ]
    }
   ],
   "source": [
    "x = 5\n",
    "y = 2\n",
    "\n",
    "addition = x + y #Addition: 5 + 2 = 7\n",
    "subtraction = x - y #Subtraction: 5 - 2 = 3\n",
    "multiplication = x * y #Multiplication: 5 * 2 = 10\n",
    "division = x / y #Division: 5 / 2 = 2.5\n",
    "\n",
    "print(addition) #Output: 7\n",
    "print(subtraction) #Output: 3\n",
    "print(multiplication) #Output: 10\n",
    "print(division) #Output: 2.5"
   ]
  },
  {
   "cell_type": "markdown",
   "metadata": {},
   "source": [
    "*Note:* Division in Python always returns a float EVEN if the result is a whole number.\n",
    " \n",
    "### Modulus and Floor Division\n",
    "\n",
    "Now, let's discuss two more arithmetic operators:\n",
    "\n",
    "1) **Modulus (%):** Returns the remainder when the first operand is divided by the second. For example, `a % b` will give the remainder when `a` is divided by `b`.\n",
    "\n",
    "2) **Floor Division (//):** Returns the quotient when the first operand is divided by the second, rounded down to the nearest whole number. For example, `a // b` will give the quotient when `a` is divided by `b`, rounded down to the nearest whole number.\n",
    "\n",
    "Example:"
   ]
  },
  {
   "cell_type": "code",
   "execution_count": 14,
   "metadata": {},
   "outputs": [
    {
     "name": "stdout",
     "output_type": "stream",
     "text": [
      "1\n",
      "2\n"
     ]
    }
   ],
   "source": [
    "x = 5\n",
    "y = 2\n",
    "\n",
    "modulus = x % y #Modulus: 5 % 2 = 1\n",
    "floor_division = x // y #Floor Division: 5 // 2 = 2\n",
    "\n",
    "print(modulus) #Output: 1\n",
    "print(floor_division) #Output: 2"
   ]
  },
  {
   "cell_type": "markdown",
   "metadata": {},
   "source": [
    "### Exponentiation\n",
    "\n",
    "Python also supports exponentiation using the `**` operator. This operator raises the first operand to the power of the second operand. For example, `a ** b` will give `a` raised to the power of `b`.\n",
    "\n",
    "Example:"
   ]
  },
  {
   "cell_type": "code",
   "execution_count": 15,
   "metadata": {},
   "outputs": [
    {
     "name": "stdout",
     "output_type": "stream",
     "text": [
      "25\n"
     ]
    }
   ],
   "source": [
    "x = 5\n",
    "y = 2\n",
    "\n",
    "exponentiation = x ** y #Exponentiation: 5 ** 2 = 25\n",
    "\n",
    "print(exponentiation) #Output: 25"
   ]
  },
  {
   "cell_type": "markdown",
   "metadata": {},
   "source": [
    "### Order of Operations (PEMDAS)\n",
    "\n",
    "Python follows the standard order of operations in mathematics, known as PEMDAS:\n",
    "\n",
    "1) **P**arentheses\n",
    "2) **E**xponents\n",
    "3) **M**ultiplication and **D**ivision (from left to right)\n",
    "4) **A**ddition and **S**ubtraction (from left to right)\n",
    "\n",
    "You can use parentheses to override the order of operations. For example, `2 * (3 + 4)` will give `14` instead of `2 * 3 + 4` which would give `10`.\n",
    "\n",
    "Example:"
   ]
  },
  {
   "cell_type": "code",
   "execution_count": 16,
   "metadata": {},
   "outputs": [
    {
     "name": "stdout",
     "output_type": "stream",
     "text": [
      "14\n"
     ]
    }
   ],
   "source": [
    "result = 2 * (3 + 4) #Output: 14\n",
    "\n",
    "print(result)"
   ]
  },
  {
   "cell_type": "markdown",
   "metadata": {},
   "source": [
    "## Strings\n",
    "Strings are sequences of characters enclosed quotes. Strings are one of the most extensively used data types in Python and come with a variety of built-in methods to manipulate them.\n",
    "\n",
    "### Creating Strings\n",
    "\n",
    "We can create strings by enclosing characters in single quotes `'` or double quotes `\"`- both work the same way.\n",
    "\n",
    "Example:"
   ]
  },
  {
   "cell_type": "code",
   "execution_count": 17,
   "metadata": {},
   "outputs": [
    {
     "name": "stdout",
     "output_type": "stream",
     "text": [
      "Howdy, y'all!\n",
      "February 14th\n"
     ]
    }
   ],
   "source": [
    "greeting = \"Howdy, y'all!\" #String enclosed in double quotes\n",
    "mnthday = 'February 14th' #String enclosed in single quotes\n",
    "\n",
    "print(greeting) #Output: Howdy, y'all!\n",
    "print(mnthday) #Output: February 14th"
   ]
  },
  {
   "cell_type": "markdown",
   "metadata": {},
   "source": [
    "In this example, `greeting` and `mnthday` are both variables that store strings.\n",
    "\n",
    "### String Operations\n",
    "\n",
    "\n",
    "#### 1) Concatenation: \n",
    "With strings, we can use the `+` operator to concatenate (or join) two or more strings together.\n",
    "\n",
    "Example:"
   ]
  },
  {
   "cell_type": "code",
   "execution_count": 18,
   "metadata": {},
   "outputs": [
    {
     "name": "stdout",
     "output_type": "stream",
     "text": [
      "Carolina Hurricanes\n"
     ]
    }
   ],
   "source": [
    "string1 = \"Carolina\"\n",
    "string2 = \"Hurricanes\"\n",
    "\n",
    "home_team = string1 + \" \" + string2 #Output: Carolina Hurricanes\n",
    "\n",
    "print(home_team)"
   ]
  },
  {
   "cell_type": "markdown",
   "metadata": {},
   "source": [
    "\n",
    "#### 2) Repetition:\n",
    "\n",
    "We can use the `*` operator to repeat a string a certain number of times.\n",
    "\n",
    "Example:"
   ]
  },
  {
   "cell_type": "code",
   "execution_count": 19,
   "metadata": {},
   "outputs": [
    {
     "name": "stdout",
     "output_type": "stream",
     "text": [
      "GoLeafsGo! GoLeafsGo! GoLeafsGo! GoLeafsGo! GoLeafsGo! \n"
     ]
    }
   ],
   "source": [
    "n = 5 #Number of times to repeat the string\n",
    "brain_cell1 = \"GoLeafsGo! \"\n",
    "\n",
    "output = brain_cell1 * n #Output: GoLeafsGo! GoLeafsGo! GoLeafsGo! GoLeafsGo! GoLeafsGo!\n",
    "\n",
    "print(output)"
   ]
  },
  {
   "cell_type": "markdown",
   "metadata": {},
   "source": [
    "### String length\n",
    "\n",
    "We can use the `len()` function to find the length of a string. The `len()` function returns the number of characters in a string. Don't worry about the `()` for now - we will discuss functions in a later section. Also, note that spaces are counted as characters.\n",
    "\n",
    "Example:"
   ]
  },
  {
   "cell_type": "code",
   "execution_count": 20,
   "metadata": {},
   "outputs": [
    {
     "name": "stdout",
     "output_type": "stream",
     "text": [
      "13\n"
     ]
    }
   ],
   "source": [
    "string = \"Hello, World!\"\n",
    "length = len(string) #Output: 13\n",
    "\n",
    "print(length)"
   ]
  },
  {
   "cell_type": "markdown",
   "metadata": {},
   "source": [
    "### Accessing Characters in a String\n",
    "\n",
    "In Python, we can access individual characters in a string using indexing. Indexing starts from 0 in Python. We can use positive or negative indexing to access characters in a string.\n",
    "\n",
    "1) Positive Indexing: In positive indexing, the first character of the string has an index of 0, the second character has an index of 1, and so on.\n",
    "\n",
    "2) Negative Indexing: In negative indexing, the last character of the string has an index of -1, the second last character has an index of -2, and so on.\n",
    "\n",
    "3) Slicing: We can also use slicing to access a range of characters in a string. Slicing is done by specifying the start and end index, separated by a colon `:`. For example, `string[2:5]` will return the characters from index 2 to index 4 (index 5 is not included).\n",
    "\n",
    "Example:"
   ]
  },
  {
   "cell_type": "code",
   "execution_count": 21,
   "metadata": {},
   "outputs": [
    {
     "name": "stdout",
     "output_type": "stream",
     "text": [
      "H\n",
      "W\n",
      "!\n",
      "llo\n"
     ]
    }
   ],
   "source": [
    "string = \"Hello, World!\"\n",
    "\n",
    "print(string[0]) #Output: H\n",
    "print(string[7]) #Output: W\n",
    "\n",
    "print(string[-1]) #Output: !\n",
    "\n",
    "print(string[2:5]) #Output: llo"
   ]
  },
  {
   "cell_type": "markdown",
   "metadata": {},
   "source": [
    "### String Methods\n",
    "\n",
    "Python has a variety of built-in methods to manipulate strings. Here are some of the most commonly used string methods:\n",
    "\n",
    "1) **`upper()`:** Converts all characters in a string to uppercase.\n",
    "\n",
    "2) **`lower()`:** Converts all characters in a string to lowercase.\n",
    "\n",
    "3) **`strip()`:** Removes any leading (spaces at the beginning) and trailing (spaces at the end) characters.\n",
    "\n",
    "4) **`replace()`:** Replaces a string with another string.\n",
    "\n",
    "Example:"
   ]
  },
  {
   "cell_type": "code",
   "execution_count": 22,
   "metadata": {},
   "outputs": [
    {
     "name": "stdout",
     "output_type": "stream",
     "text": [
      "HELLO, WORLD!\n",
      "hello, world!\n",
      "ello, World!\n",
      "Hello, Y'ALL!\n"
     ]
    }
   ],
   "source": [
    "string = \"Hello, World!\"\n",
    "\n",
    "upper_case = string.upper() #Output: HELLO, WORLD!\n",
    "\n",
    "lower_case = string.lower() #Output: hello, world!\n",
    "\n",
    "stripped = string.strip(\"H\") #Output: ello, World!\n",
    "\n",
    "replaced = string.replace(\"World\", \"Y'ALL\") #Output: Hello, Y'ALL!\n",
    "\n",
    "print(upper_case)\n",
    "print(lower_case)\n",
    "print(stripped)\n",
    "print(replaced)"
   ]
  },
  {
   "cell_type": "markdown",
   "metadata": {},
   "source": [
    "\n",
    "Keep in mind that strings are immutable in Python, meaning you cannot change the value of a string once it is created. However, you can create a new string with the desired changes.\n",
    "\n",
    "### String Formatting\n",
    "\n",
    "When you start working with strings, you will run into where you will want to insert a variable value into a string. Python provides several ways to format strings. Here are some of the most commonly used methods:\n",
    "\n",
    "1) f-strings: Introduced in Python 3.6, f-strings are the most preferred way to format strings in Python. You can use f-strings to embed expressions inside string literals, using curly braces `{}`.\n",
    "\n",
    "2) `format()` method: The `format()` method is an older way to format strings in Python. You can use curly braces `{}` as placeholders in the string and pass the variables to the `format()` method.\n",
    "\n",
    "3) `%` operator: The `%` operator is another way to format strings in Python. You can use `%s` as a placeholder in the string and pass the variables to the `%` operator.\n",
    "\n",
    "Example:\n"
   ]
  },
  {
   "cell_type": "code",
   "execution_count": 23,
   "metadata": {},
   "outputs": [
    {
     "name": "stdout",
     "output_type": "stream",
     "text": [
      "My name is John and I am 25 years old.\n",
      "My name is John and I am 25 years old.\n",
      "My name is John and I am 25 years old.\n"
     ]
    }
   ],
   "source": [
    "name = \"John\"\n",
    "age = 25\n",
    "\n",
    "#f-strings\n",
    "f_string = f\"My name is {name} and I am {age} years old.\"\n",
    "\n",
    "#format() method\n",
    "format_method = \"My name is {} and I am {} years old.\".format(name, age)\n",
    "\n",
    "#% operator\n",
    "percent_operator = \"My name is %s and I am %d years old.\" % (name, age)\n",
    "\n",
    "print(f_string)\n",
    "print(format_method)\n",
    "print(percent_operator)"
   ]
  }
 ],
 "metadata": {
  "kernelspec": {
   "display_name": "Python 3 (ipykernel)",
   "language": "python",
   "name": "python3"
  },
  "language_info": {
   "codemirror_mode": {
    "name": "ipython",
    "version": 3
   },
   "file_extension": ".py",
   "mimetype": "text/x-python",
   "name": "python",
   "nbconvert_exporter": "python",
   "pygments_lexer": "ipython3",
   "version": "3.8.5"
  }
 },
 "nbformat": 4,
 "nbformat_minor": 2
}

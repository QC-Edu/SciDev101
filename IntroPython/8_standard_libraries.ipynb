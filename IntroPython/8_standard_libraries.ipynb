{
 "cells": [
  {
   "cell_type": "markdown",
   "metadata": {},
   "source": [
    "# Intro to Python's Standard Library\n",
    "\n",
    "This notebook is a *very* brief introduction to Python's standard library. This library is a collection of modules (already downloaded when you install Python) that provide a wide range of functionality - from file handling and data manipulation to networking and web development. Python's standard library is very extensive and is one of the main reasons why Python is such a versatile and powerful - yet simple - language.\n",
    "\n",
    "## Key Features\n",
    "\n",
    "- **Ease of Use**: Python's standard library is designed to be easy to use and understand. This makes it a great resource for beginners and experienced programmers alike.\n",
    "- **Cross-Platform**: Works across different operating systems (Windows, macOS, Linux).\n",
    "- **Well-Documented**: Each module and function in the standard library is well-documented, making it easy to find information on how to use them.\n",
    "-**Batteries Included**: These modules are available out-of-the-box and do not need to be installed separately.\n",
    "\n",
    "## Module Overview\n",
    "Here are a few of the use cases that the standard library can help you with:\n",
    "\n",
    "- **File Handling**: Interacting with the file system i.e. reading and writing files, working with directories, etc. Modules: `os`, `shutil`, `pathlib`, `glob`.\n",
    "- **Data Manipulation**: Working with data in various formats like CSV, JSON, XML, etc. Modules: `csv`, `json`, `xml`.\n",
    "- **Regular Expressions**: Pattern matching in strings. Module: `re`.\n",
    "- **Networking**: Making HTTP requests, creating servers, etc. Modules: `urllib`, `http`, `socket`.\n",
    "- **Web Development**: Creating web applications, parsing HTML, etc. Modules: `http.server`, `cgi`, `html`.\n",
    "- **Mathematics**: Mathematical operations, random numbers, etc. Modules: `math`, `random`.\n",
    "- **Date and Time**: Working with dates and times. Modules: `datetime`, `time`.\n",
    "\n",
    "## How to Use\n",
    "To use a module from the standard library, you need to import it into your Python script or notebook and then you are good to go.\n",
    "```python\n",
    "import module_name\n",
    "```\n"
   ]
  },
  {
   "cell_type": "markdown",
   "metadata": {},
   "source": [
    "## Commonly Used Modules\n",
    "\n",
    "1. `os`: Provides a way to interact with the operating system. You can create, delete, move, and rename files and directories.\n",
    "\n",
    "2. `pathlib`: Provides an object-oriented interface for working with the file system.\n",
    "\n",
    "3. `re`: Provides support for regular expressions.\n",
    "\n",
    "4. `json`: Provides support for working with JSON data.\n",
    "\n",
    "5. `datetime`: Provides support for working with dates and times.\n",
    "\n",
    "6. `math`: Provides support for mathematical operations.\n",
    "\n",
    "7. `random`: Provides support for generating random numbers."
   ]
  },
  {
   "cell_type": "markdown",
   "metadata": {},
   "source": []
  }
 ],
 "metadata": {
  "language_info": {
   "name": "python"
  }
 },
 "nbformat": 4,
 "nbformat_minor": 2
}

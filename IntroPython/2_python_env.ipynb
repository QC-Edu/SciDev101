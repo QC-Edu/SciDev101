{
 "cells": [
  {
   "cell_type": "markdown",
   "metadata": {},
   "source": [
    "# Introduction to Python Environment\n",
    "\n",
    "In this section, we'll go over how to set up the Python environment on your computer. This includes installing Python, choosing the right tools, and understanding how to run Python code in various environments.\n"
   ]
  },
  {
   "cell_type": "markdown",
   "metadata": {},
   "source": [
    "## Installing Python"
   ]
  },
  {
   "cell_type": "markdown",
   "metadata": {},
   "source": [
    "### **Windows**\n",
    "\n",
    "-  **Download Python**: Go to the [Python website](https://www.python.org/downloads/) and download the latest version of Python for Windows.\n",
    "- **Very Important** Make sure to check \n",
    "the box that says \"Add Python to PATH\" during the installation process."
   ]
  },
  {
   "cell_type": "markdown",
   "metadata": {},
   "source": [
    "### **macOS**\n",
    "- macOS usually comes with Python pre-installed. However, it’s a good idea to install the latest version which can be done a couple of ways:\n",
    "\n",
    "    1) Download the latest version of Python from the [Python website](https://www.python.org/downloads/).\n",
    "\n",
    "    2) Use Homebrew (a popular package manager for macOS) to install Python:\n",
    "        ```bash\n",
    "        brew install python\n",
    "        ```\n"
   ]
  },
  {
   "cell_type": "markdown",
   "metadata": {
    "vscode": {
     "languageId": "markdown"
    }
   },
   "source": [
    "### **Linux**\n",
    "\n",
    "   - Most Linux distributions also come with Python pre-installed. If not, you can install it using the package manager.\n",
    "   - For Ubuntu/Debian:\n",
    "     ```bash\n",
    "     sudo apt update\n",
    "     sudo apt install python3\n",
    "     ```"
   ]
  },
  {
   "cell_type": "markdown",
   "metadata": {
    "vscode": {
     "languageId": "markdown"
    }
   },
   "source": [
    "### **Verifying the Installation**\n",
    "\n",
    "After installation, open your terminal (or command prompt) and check the Python version by running:\n",
    "```bash\n",
    "python --version\n",
    "```\n",
    "or on some systems:\n",
    "```bash\n",
    "python3 --version\n",
    "```\n",
    "You should see an output like `Python 3.x.x`, confirming the installation was successful."
   ]
  },
  {
   "cell_type": "markdown",
   "metadata": {},
   "source": [
    "## Running Your First Python program\n",
    "\n",
    "Now that you have Python installed, let's write and run your first Python program. There are a few different ways you can run Python code on your computer..."
   ]
  },
  {
   "cell_type": "markdown",
   "metadata": {},
   "source": [
    "### **1. Python Interpreter**\n",
    "\n",
    "The simplest (and fastest)way to run Python code is through the Python interpreter. This is how I first learned how to use Python. Sure, it is cumbersome and not useful for writing packages, but it is great for getting instant feedback on simple tests/sanity checks. \n",
    "\n",
    "Depending on your system, Python can be run directly from your command line using the `python` (or `python3` on some systems) command to boot up the Python interpreter. You can then type Python code directly into the interpreter and press `Enter` to execute it\n",
    "\n",
    "1. **Open your terminal** (or command prompt on Windows).\n",
    "- For my Linux system, this is done by pressing 'Windows + T' on my keyboard.\n",
    "2. **Start the Python interactive shell** by typing :\n",
    "```bash\n",
    "python\n",
    "``` \n",
    "or \n",
    "```bash\n",
    "python3\n",
    "```\n",
    "You should see something like this:\n",
    "```bash\n",
    "Python 3.8.5 (default, Jul 28 2020, 12:59:40)\n",
    "[GCC 9.3.0] on linux\n",
    "Type \"help\", \"copyright\", \"credits\" or \"license\" for more information.\n",
    ">>>\n",
    "```\n",
    "3. **Type your Python code** directly into the interpreter and press `Enter` to execute it. For example, you can type:\n",
    "```python   \n",
    "print(\"Hello, World!\")\n",
    "```\n",
    "which should output:\n",
    "``` \n",
    "Hello, World!\n",
    "```\n",
    "4. **Exit the interpreter** by typing `exit()` or pressing `Ctrl + D` on your keyboard.\n",
    "\n",
    "Congratulations! You've just run your first Python program using the Python interpreter.\n"
   ]
  },
  {
   "cell_type": "markdown",
   "metadata": {},
   "source": [
    "### **2. Python Scripts**\n",
    "\n",
    "Another way to run Python code is by writing scripts in a text editor and running them from the terminal. Here's how you can do it:"
   ]
  },
  {
   "cell_type": "markdown",
   "metadata": {},
   "source": [
    "### **3. Integrated Development Environment (IDE)**\n",
    "\n",
    "An Integrated Development Environment (IDE) is a software application that provides comprehensive facilities to computer programmers for software development. It usually consists of a source code editor, build automation tools, and a debugger. Some popular Python IDEs include:\n",
    "\n",
    "- **PyCharm**: A powerful and feature-rich IDE developed by JetBrains.\n",
    "\n",
    "- **Visual Studio Code**: A lightweight but powerful source code editor which runs on your desktop and is available for Windows, macOS, and Linux.\n",
    "\n",
    "- **Jupyter Notebook**: An open-source web application that allows you to create and share documents that contain live code, equations, visualizations, and narrative text.\n",
    "\n",
    "- **Spyder**: A powerful IDE for scientific computing, data analysis, and numerical computation.\n",
    "\n",
    "While you can use any text editor to write Python code, using an IDE can greatly improve your productivity by providing features like code completion, debugging, and version control integration. "
   ]
  },
  {
   "cell_type": "markdown",
   "metadata": {},
   "source": [
    "## **Warning: Be Cautious with IDEs When Starting Out**\n",
    "\n",
    "While Integrated Development Environments (IDEs) are incredibly powerful and useful tools for experienced developers, I generally recommend **avoiding them at the very beginning** of your Python learning journey. Here’s why:\n",
    "\n",
    "### **1. IDEs Can Be Overwhelming for Beginners**\n",
    "IDEs often come with a multitude of features, buttons, menus, and options that can be **intimidating** for someone just starting out. For beginners, the complexity of these tools can distract from the core concepts you should be focusing on, like understanding basic syntax, logic, and how Python works. Instead of spending your time writing code and solving problems, you might end up spending too much time configuring settings, customizing the interface, or learning how to use the IDE’s built-in features.\n",
    "\n",
    "### **2. Potential for Distraction**\n",
    "IDEs are designed to be feature-rich, which is great for professional development, but this also means that they often include features like auto-completion, error highlighting, debugging tools, and version control integration. While these features are invaluable for larger projects, they can also **distract** from the fundamentals of coding. \n",
    "\n",
    "As a beginner, it's easy to become overly reliant on features like auto-completion, where the IDE tries to guess your next action. While helpful, this can lead to poor coding habits, such as not fully understanding what the code is doing or learning how to debug and write code without assistance.\n",
    "\n",
    "### **3. IDEs Can Hide the Complexity**\n",
    "One of the key benefits of learning to program is developing an understanding of the **basic components** that make up a program, such as the file system, the command line, and how code interacts with the operating system. IDEs often **abstract away** many of these details, making it harder for beginners to truly understand how their code runs on their computer. \n",
    "\n",
    "For example, when using an IDE, you may not fully realize when or why certain files are being saved, or how a script is being executed. In the long run, this lack of exposure to the fundamentals can create gaps in your knowledge.\n",
    "\n",
    "### **4. Dependency on Crutches**\n",
    "Many IDEs provide features that act as crutches for beginners. For instance, auto-formatting, auto-imports, and code suggestions can give you a false sense of security. These tools can make coding feel easier in the short term, but they can prevent you from understanding the underlying processes involved in writing and running code.\n",
    "\n",
    "For instance, when your code automatically completes through suggestions, it can prevent you from getting used to typing things out manually, memorizing Python's syntax, and becoming more comfortable with the coding process. Over time, this can slow your progress and hinder your ability to solve problems when you're away from your IDE or working on a more complex project.\n",
    "\n",
    "\n",
    "### **5. The Command Line Is Your Friend**\n",
    "As a beginner, you’ll learn much more by starting with a simple text editor (like Notepad on Windows, TextEdit on macOS, or Nano/Vim on Linux) and running your scripts through the command line or terminal. This approach:\n",
    "- Helps you understand **how your code interacts with the system** (e.g., file paths, environment variables).\n",
    "- Forces you to **manually execute scripts**, which helps you understand the process of running programs and fixing errors.\n",
    "- Encourages **self-reliance**. When errors occur, you won’t have the “safety net” of an IDE’s auto-debugging features. You’ll have to read the error messages and figure out how to fix the issue yourself, which is a crucial part of learning.\n",
    "\n",
    "### **6. It’s Not About the Tools, It’s About the Code**\n",
    "Programming is fundamentally about **problem-solving** and **logic**. The language, environment, and tools you use are secondary to understanding how to break down problems, write algorithms, and organize your thoughts logically. Overreliance on an IDE early on can cause you to focus too much on the tool and not enough on the language itself.\n",
    "\n",
    "### **7. Play Stupid Games, Win Stupid Prizes**\n",
    "Co-Pilot (or any other AI Assistant) literally learns from your code. I do not think I need to explain why this is not ideal for beginners, but even now, there are times I wish my co-pilot had not learned from my code.\n",
    "\n",
    "### **When Is It Okay to Use an IDE?**\n",
    "Once you're comfortable with basic Python syntax and can write simple scripts, it might be time to explore an IDE to boost your productivity. At that point, the **tools will support your learning**, rather than act as a crutch.\n",
    "\n",
    "For example, once you understand how to write Python functions and classes, using an IDE's debugging tools can help you troubleshoot complex programs more effectively. But if you start using an IDE right away, you may become dependent on the automation and assistance, which could slow down your learning process.\n",
    "\n",
    "---\n",
    "\n",
    "### **The Bottom Line: Learn the Basics First**\n",
    "In summary, when you're just starting out with Python, focus on understanding the **core concepts** of programming first:\n",
    "- Writing clean and readable code.\n",
    "- Understanding how to run your scripts from the command line.\n",
    "- Debugging errors on your own.\n",
    "- Working with simple text editors/CLI.\n",
    "\n",
    "Once you have mastered the basics, **then** move on to tools like IDEs. By starting small and simple, you’ll build a solid foundation that will serve you well as you progress in your programming journey.\n"
   ]
  },
  {
   "cell_type": "code",
   "execution_count": null,
   "metadata": {},
   "outputs": [],
   "source": []
  },
  {
   "cell_type": "code",
   "execution_count": null,
   "metadata": {},
   "outputs": [],
   "source": []
  },
  {
   "cell_type": "code",
   "execution_count": null,
   "metadata": {},
   "outputs": [],
   "source": []
  },
  {
   "cell_type": "markdown",
   "metadata": {},
   "source": []
  }
 ],
 "metadata": {
  "kernelspec": {
   "display_name": "mpd",
   "language": "python",
   "name": "python3"
  },
  "language_info": {
   "codemirror_mode": {
    "name": "ipython",
    "version": 3
   },
   "file_extension": ".py",
   "mimetype": "text/x-python",
   "name": "python",
   "nbconvert_exporter": "python",
   "pygments_lexer": "ipython3",
   "version": "3.10.13"
  }
 },
 "nbformat": 4,
 "nbformat_minor": 2
}

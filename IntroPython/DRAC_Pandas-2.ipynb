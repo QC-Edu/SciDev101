{
 "cells": [
  {
   "cell_type": "markdown",
   "metadata": {},
   "source": [
    "Pandas is the go-to import for working with excel files (and other comma-separated-value [csv] type files). It makes working with large amounts of data, neatly organized in excel type files, simple."
   ]
  },
  {
   "cell_type": "code",
   "execution_count": 59,
   "metadata": {},
   "outputs": [
    {
     "name": "stdout",
     "output_type": "stream",
     "text": [
      "   survived  pclass     sex   age  sibsp  parch     fare embarked   class  \\\n",
      "0         0       3    male  22.0      1      0   7.2500        S   Third   \n",
      "1         1       1  female  38.0      1      0  71.2833        C   First   \n",
      "2         1       3  female  26.0      0      0   7.9250        S   Third   \n",
      "3         1       1  female  35.0      1      0  53.1000        S   First   \n",
      "4         0       3    male  35.0      0      0   8.0500        S   Third   \n",
      "5         0       3    male   NaN      0      0   8.4583        Q   Third   \n",
      "6         0       1    male  54.0      0      0  51.8625        S   First   \n",
      "7         0       3    male   2.0      3      1  21.0750        S   Third   \n",
      "8         1       3  female  27.0      0      2  11.1333        S   Third   \n",
      "9         1       2  female  14.0      1      0  30.0708        C  Second   \n",
      "\n",
      "     who  adult_male deck  embark_town alive  alone  \n",
      "0    man        True  NaN  Southampton    no  False  \n",
      "1  woman       False    C    Cherbourg   yes  False  \n",
      "2  woman       False  NaN  Southampton   yes   True  \n",
      "3  woman       False    C  Southampton   yes  False  \n",
      "4    man        True  NaN  Southampton    no   True  \n",
      "5    man        True  NaN   Queenstown    no   True  \n",
      "6    man        True    E  Southampton    no   True  \n",
      "7  child       False  NaN  Southampton    no  False  \n",
      "8  woman       False  NaN  Southampton   yes  False  \n",
      "9  child       False  NaN    Cherbourg   yes  False  \n",
      "     survived  pclass     sex   age  sibsp  parch   fare embarked   class  \\\n",
      "886         0       2    male  27.0      0      0  13.00        S  Second   \n",
      "887         1       1  female  19.0      0      0  30.00        S   First   \n",
      "888         0       3  female   NaN      1      2  23.45        S   Third   \n",
      "889         1       1    male  26.0      0      0  30.00        C   First   \n",
      "890         0       3    male  32.0      0      0   7.75        Q   Third   \n",
      "\n",
      "       who  adult_male deck  embark_town alive  alone  \n",
      "886    man        True  NaN  Southampton    no   True  \n",
      "887  woman       False    B  Southampton   yes   True  \n",
      "888  woman       False  NaN  Southampton    no  False  \n",
      "889    man        True    C    Cherbourg   yes   True  \n",
      "890    man        True  NaN   Queenstown    no   True  \n"
     ]
    }
   ],
   "source": [
    "import pandas as pd\n",
    "import seaborn as sns\n",
    "\n",
    "file_name = \"DRAC_workshop.xls\"              # Filename of the excel sheet\n",
    "\n",
    "# read in the excel or csv type file\n",
    "#df = pd.read_excel(file_name)\n",
    "df = sns.load_dataset(\"titanic\")\n",
    "\n",
    "# if we want to the top X lines, where in this case X = 10 (Default is 5)\n",
    "print(df.head(10))         \n",
    "\n",
    "# Similarly we can see what is at the end of the file by using\n",
    "print(df.tail())\n",
    "# We can take our dataframe and make an excel file with the following\n",
    "df.to_excel(\"titanic.xlsx\", index=False)\n",
    "\n"
   ]
  },
  {
   "cell_type": "markdown",
   "metadata": {},
   "source": [
    "If we were using a comma separated value (CSV) file to store data we would instead use"
   ]
  },
  {
   "cell_type": "code",
   "execution_count": null,
   "metadata": {},
   "outputs": [],
   "source": [
    "df.read_csv(file_name)"
   ]
  },
  {
   "cell_type": "markdown",
   "metadata": {},
   "source": [
    "If the read_excel did not work, it might be the case that we need to install openpyxl using"
   ]
  },
  {
   "cell_type": "code",
   "execution_count": null,
   "metadata": {},
   "outputs": [],
   "source": [
    "pip install openpyxl"
   ]
  },
  {
   "cell_type": "markdown",
   "metadata": {},
   "source": [
    "If we have an excel document with many different sheets in it, we can open a specific sheet by using the sheet_name= keyword."
   ]
  },
  {
   "cell_type": "code",
   "execution_count": null,
   "metadata": {},
   "outputs": [],
   "source": [
    "df = pd.read_excel(\"workshop_attendance.xlsx\", sheet_name=\"INSERT REAL SHEET NAME HERE\")"
   ]
  },
  {
   "cell_type": "markdown",
   "metadata": {},
   "source": [
    "If we want to see all of the possible colum headers in the excel file we can use the '.keys()' function"
   ]
  },
  {
   "cell_type": "code",
   "execution_count": null,
   "metadata": {},
   "outputs": [],
   "source": [
    "print(df.keys())"
   ]
  },
  {
   "cell_type": "markdown",
   "metadata": {},
   "source": [
    "We can see all available sheets in our excel file by using df.keys(), so long as there are multiple sheets present. If there is only 1 sheet, then df.keys() will output the column names. We could also output column names using df.columns()"
   ]
  },
  {
   "cell_type": "code",
   "execution_count": null,
   "metadata": {},
   "outputs": [],
   "source": [
    "print(df.keys())"
   ]
  },
  {
   "cell_type": "markdown",
   "metadata": {},
   "source": [
    "If our excel file had many sheets, we could open it into a variable 'dfs' or 'sheets' or whatever name we wanted, and then exctract sheets into their own dataframe"
   ]
  },
  {
   "cell_type": "code",
   "execution_count": null,
   "metadata": {},
   "outputs": [],
   "source": [
    "dfs = pd.read_excel(\"NAME OF EXCEL WITH MULTIPLE SHEETS\")\n",
    "df1 = dfs[\"NAME OF SHEET 1\"]\n",
    "df2 = dfs[\"NAME OF SHEET 2\"]\n",
    "dfN = dfs[\"NAME OF SHEET N\"]"
   ]
  },
  {
   "cell_type": "markdown",
   "metadata": {},
   "source": [
    "When we read in our excel file into 'df' or whatever other variable we want to save it as, the columns are keys, so we can access the data in a column the same way as a key in a dictionary is accessed\n"
   ]
  },
  {
   "cell_type": "code",
   "execution_count": null,
   "metadata": {},
   "outputs": [],
   "source": [
    "# Access the column called 'fare'\n",
    "fare = df[\"fare\"]\n",
    "\n",
    "# we can perform operations such as mean, sum and others by adding .mean() or .sum() etc\n",
    "print(df[\"fare\"].mean())\n",
    "\n",
    "import numpy as np\n",
    "print(np.mean(fare))\n",
    "# this will print out the average fare\n",
    "\n",
    "# We could also sum up the fare\n",
    "print(f\"The total fare on the titanic was {df['fare'].sum()}\")"
   ]
  },
  {
   "cell_type": "markdown",
   "metadata": {},
   "source": [
    "remove all NaN"
   ]
  },
  {
   "cell_type": "code",
   "execution_count": null,
   "metadata": {},
   "outputs": [],
   "source": [
    "# To drop all NaN values in the whole sheet\n",
    "df = df.dropna()\n",
    "\n",
    "# To drop NaN's in specific columns\n",
    "df = df.dropna(subset=['column_1', 'column_N'])   # REPLACE WITH REAL COLUMN NAMES"
   ]
  },
  {
   "cell_type": "markdown",
   "metadata": {},
   "source": [
    "Remove columns where all numerical values are below a specified threshold"
   ]
  },
  {
   "cell_type": "code",
   "execution_count": null,
   "metadata": {},
   "outputs": [],
   "source": [
    "df = df[(df.select_dtypes(include=['number']) >= 10).all(axis=1)] # Keep rows where all values in row are greater or equal to 10"
   ]
  },
  {
   "cell_type": "markdown",
   "metadata": {},
   "source": [
    "Remove all Columns with values smaller than X, where in this case X = 10"
   ]
  },
  {
   "cell_type": "code",
   "execution_count": null,
   "metadata": {},
   "outputs": [],
   "source": [
    "df = df.loc[(df.select_dtypes(include=['number']) >= 10).all()]"
   ]
  },
  {
   "cell_type": "markdown",
   "metadata": {},
   "source": [
    "We may want to remove columns that have too many missing values"
   ]
  },
  {
   "cell_type": "code",
   "execution_count": null,
   "metadata": {},
   "outputs": [],
   "source": [
    "threshold = 0.8  # 80% threshold (80% must be present)\n",
    "df = df.dropna(thresh=len(df) * threshold, axis=1)\n",
    "print(df.keys())"
   ]
  },
  {
   "cell_type": "markdown",
   "metadata": {},
   "source": [
    "We may want to count number of unique values in a column, for instance how many unique cities were the passengers from"
   ]
  },
  {
   "cell_type": "code",
   "execution_count": null,
   "metadata": {},
   "outputs": [],
   "source": [
    "print(df[\"embark_town\"].value_counts())"
   ]
  },
  {
   "cell_type": "markdown",
   "metadata": {},
   "source": [
    "We can count occurances in rows (A little ugly with the lambda function)"
   ]
  },
  {
   "cell_type": "code",
   "execution_count": null,
   "metadata": {},
   "outputs": [],
   "source": [
    "df.apply(lambda row: row.value_counts(), axis=1)"
   ]
  },
  {
   "cell_type": "markdown",
   "metadata": {},
   "source": [
    "# Machine Learning with Scikit-Learn"
   ]
  },
  {
   "cell_type": "markdown",
   "metadata": {},
   "source": [
    "We will now use machine learning to try to make a model to predict if a person will survive based on 1) the fare they paid, or 2) where they embarked"
   ]
  },
  {
   "cell_type": "code",
   "execution_count": 60,
   "metadata": {},
   "outputs": [
    {
     "name": "stdout",
     "output_type": "stream",
     "text": [
      "Model Accuracy: 0.69\n"
     ]
    }
   ],
   "source": [
    "from sklearn.model_selection import train_test_split\n",
    "from sklearn.preprocessing import OneHotEncoder, StandardScaler\n",
    "from sklearn.ensemble import RandomForestClassifier\n",
    "from sklearn.metrics import accuracy_score\n",
    "\n",
    "# Drop rows with missing target ('survived') and drop NaNs in key columns\n",
    "df = df.dropna(subset=[\"survived\", \"embarked\", \"fare\"])\n",
    "\n",
    "# Select features and target\n",
    "features = [\"fare\", \"embarked\"]\n",
    "target = \"survived\"\n",
    "\n",
    "# One-hot encode categorical column 'embarked' (take strings, make several columns that are only binary)\n",
    "# i.e. 'embarked' has options of S, Q or C. This removes 'embarked' columns but adds 'embarked_S', 'embarked_Q' etc\n",
    "df = pd.get_dummies(df, columns=[\"embarked\"], drop_first=True)\n",
    "\n",
    "# used embarked_S, embarked_Q, embarked_C\n",
    "features = [\"fare\", \"embarked_S\", \"embarked_Q\",]\n",
    "\n",
    "# Split data into train and test sets\n",
    "X = df[features]\n",
    "y = df[target]\n",
    "X_train, X_test, y_train, y_test = train_test_split(X, y, test_size=0.25, random_state=3)\n",
    "\n",
    "# Train a Random Forest classifier (default n_estimators is 100)\n",
    "model = RandomForestClassifier(n_estimators=100, random_state=42)\n",
    "model.fit(X_train, y_train)\n",
    "\n",
    "# Predict on test set\n",
    "y_pred = model.predict(X_test)\n",
    "\n",
    "# Evaluate accuracy\n",
    "accuracy = accuracy_score(y_test, y_pred)\n",
    "print(f\"Model Accuracy: {accuracy:.2f}\")"
   ]
  },
  {
   "cell_type": "markdown",
   "metadata": {},
   "source": [
    "Now that we have trained our model, we can use it to make predictions.\n",
    "\n",
    "We just need to supply the feature values for a new candidate.\n"
   ]
  },
  {
   "cell_type": "code",
   "execution_count": 58,
   "metadata": {},
   "outputs": [
    {
     "name": "stdout",
     "output_type": "stream",
     "text": [
      "The predicted survivability of Gerald is: 0\n"
     ]
    }
   ],
   "source": [
    "# Create new passenger. Note all values are lists since Pandas expects columns of values\n",
    "Gerald = pd.DataFrame({'fare': [30], 'embarked_Q':[0], 'embarked_S':[1]})\n",
    "Gerald_prediction = model.predict(Gerald)\n",
    "print(f\"The predicted survivability of Gerald is: {Gerald_prediction[0]}\")"
   ]
  },
  {
   "cell_type": "code",
   "execution_count": null,
   "metadata": {},
   "outputs": [],
   "source": []
  }
 ],
 "metadata": {
  "kernelspec": {
   "display_name": "Python 3",
   "language": "python",
   "name": "python3"
  },
  "language_info": {
   "codemirror_mode": {
    "name": "ipython",
    "version": 3
   },
   "file_extension": ".py",
   "mimetype": "text/x-python",
   "name": "python",
   "nbconvert_exporter": "python",
   "pygments_lexer": "ipython3",
   "version": "3.8.3"
  }
 },
 "nbformat": 4,
 "nbformat_minor": 4
}
